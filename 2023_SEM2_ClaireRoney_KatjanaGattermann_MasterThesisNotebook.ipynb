{
 "cells": [
  {
   "cell_type": "markdown",
   "id": "8b3edbe1-e8a8-4ebb-a315-5a977c24fade",
   "metadata": {
    "tags": []
   },
   "source": [
    "# Personalizing the Covid-19 Pandemic: Defining and Analyzing Personalized Science in U.S. Pandemic News Coverage\n",
    "\n",
    "##### Claire M. Roney (14649748) \n",
    "##### Master’s Thesis Jupyter Lab Notebook\n",
    "##### University of Amsterdam Graduate School of Communication  \n",
    "##### Erasmus Mundus Master’s Program in Journalism, Media and Globalization \n",
    "##### Dr. K. Katjana Gattermann\n",
    "##### June 22, 2023"
   ]
  },
  {
   "cell_type": "markdown",
   "id": "cb5b0a4d-dd68-4c9f-b435-677dbd94160b",
   "metadata": {},
   "source": [
    "This notebook has been shared to increase transparency and replicability of the thesis research. However, this notebookis considered for viewing only as the dataframe has been removed and the output cleared for analyses containing personal information. This is done to protect the personal information of the scientists analyzed in the study, as well as to comply with GDPR and guidance from the University of Amsterdam. The original coding was preserved wherever possible, and descriptions added to provide more information. \n",
    "\n",
    "The thesis is not avialable for reading at this time, but the abstract and hypotheses used for statistical testing are shared below."
   ]
  },
  {
   "cell_type": "markdown",
   "id": "d2b9995e-7110-4eb2-9bc1-a96a3e0e7fda",
   "metadata": {
    "tags": []
   },
   "source": [
    "## Abstract"
   ]
  },
  {
   "cell_type": "markdown",
   "id": "1e5b174b-4c29-47be-9fc2-28aab0b95a53",
   "metadata": {},
   "source": [
    "The pandemic observed the increasing visibility of obscure scientists in the media, supporting decades-old claims from scholars that the sciences are becoming increasingly mediatized and politicized. However, studies of scientists in the media have not empirically grounded such observations to quantitatively assess if individual visibility is rising more than scientific organizations, institutions and associated generalizations in the media, indicative of media personalization of science. Additionally, studies have not investigated if this visibility is connected to tactics to legitimize or criticize scientists in partisan news coverage, that may present science differently depending on partisan leanings. This study addressed those gaps by asking: how does the visibility and treatment of scientists vary between U.S. partisan news outlets in online pandemic news coverage? This study conceptually defined personalized science in the media, and methodologically contributed an operationalization of personalized science, as well as tactics to legitimize and criticize scientists. This study designed a quantitative content analysis of online pandemic news coverage from politically-opposed media outlets in the United States – CNN and Fox News – incorporating the 2020 U.S. presidential election as a temporal comparison point to assess the visibility and treatment of scientists during the pandemic. The findings implied that in spite of the multidisciplinary observations that scientists are becoming more visible, they may not be so visible as to be personalized by the media. Additionally, partisan online news coverage scored relatively neutral in its treatment of scientists, despite research supporting the polarization and politicization of science by the media. However, post-hoc analyses revealed a significant relationship between visibility and treatment, suggesting the more scientists are personalized in the media, the more they are legitimized and criticized. Findings are discussed, and interpreted with caution, to prompt future research."
   ]
  },
  {
   "cell_type": "markdown",
   "id": "59830f6d-0a53-49fb-80c7-398af14f86b6",
   "metadata": {
    "tags": []
   },
   "source": [
    "## Hypotheses"
   ]
  },
  {
   "cell_type": "markdown",
   "id": "cf713ca8-7933-4284-b75c-ca2ff09366a3",
   "metadata": {},
   "source": [
    "*Hypothesis 1a: Conservative coverage will have higher centralized visibility of scientists compared to liberal coverage;\n",
    "\n",
    "*Hypothesis 1b: Liberal coverage will have higher decentralized visibility of scientists compared to conservative coverage.\n",
    "\n",
    "*Hypothesis 2a: Conservative coverage will criticize more scientists than liberal coverage;\n",
    "11\n",
    "\n",
    "*Hypothebasis 2b: Liberal coverage will legitimize more scientists than conservative coverage.\n",
    "\n",
    "*Hypothesis 3a: Conservative coverage will amplify the criticism of scientists in the post- election period, compared to pre-election coverage;\n",
    "\n",
    "*Hypothesis 3b: Liberal coverage will increase the legitimization of scientists in the post- election period compared to pre-election coverage.\n",
    "\n",
    "*Hypothesis 4a: Conservative coverage will have higher decentralized visibility of scientists in post-election coverage compared to pre-election coverage;\n",
    "\n",
    "*Hypothesis 4b: Liberal coverage will have higher centralized visibility of scientists in post-election coverage compared to pre-election coverage."
   ]
  },
  {
   "cell_type": "markdown",
   "id": "1d1a34ed-ae20-42a0-90e9-a400a0b1355f",
   "metadata": {
    "tags": []
   },
   "source": [
    "## Installing Packages and Cleaning "
   ]
  },
  {
   "cell_type": "markdown",
   "id": "1bc6a21d-8a7a-47b0-bfc8-9dd4683c393d",
   "metadata": {
    "tags": []
   },
   "source": [
    "### Installations"
   ]
  },
  {
   "cell_type": "code",
   "execution_count": 1,
   "id": "5034d8fe-f886-41ac-a043-d47051ca4cb3",
   "metadata": {
    "tags": []
   },
   "outputs": [
    {
     "name": "stdout",
     "output_type": "stream",
     "text": [
      "Requirement already satisfied: seaborn in /Users/cmroney/Library/jupyterlab-desktop/jlab_server/lib/python3.8/site-packages (0.12.2)\n",
      "Requirement already satisfied: pandas>=0.25 in /Users/cmroney/Library/jupyterlab-desktop/jlab_server/lib/python3.8/site-packages (from seaborn) (1.5.3)\n",
      "Requirement already satisfied: numpy!=1.24.0,>=1.17 in /Users/cmroney/Library/jupyterlab-desktop/jlab_server/lib/python3.8/site-packages (from seaborn) (1.24.2)\n",
      "Requirement already satisfied: matplotlib!=3.6.1,>=3.1 in /Users/cmroney/Library/jupyterlab-desktop/jlab_server/lib/python3.8/site-packages (from seaborn) (3.7.0)\n",
      "Requirement already satisfied: importlib-resources>=3.2.0 in /Users/cmroney/Library/jupyterlab-desktop/jlab_server/lib/python3.8/site-packages (from matplotlib!=3.6.1,>=3.1->seaborn) (5.12.0)\n",
      "Requirement already satisfied: packaging>=20.0 in /Users/cmroney/Library/jupyterlab-desktop/jlab_server/lib/python3.8/site-packages (from matplotlib!=3.6.1,>=3.1->seaborn) (23.0)\n",
      "Requirement already satisfied: fonttools>=4.22.0 in /Users/cmroney/Library/jupyterlab-desktop/jlab_server/lib/python3.8/site-packages (from matplotlib!=3.6.1,>=3.1->seaborn) (4.38.0)\n",
      "Requirement already satisfied: cycler>=0.10 in /Users/cmroney/Library/jupyterlab-desktop/jlab_server/lib/python3.8/site-packages (from matplotlib!=3.6.1,>=3.1->seaborn) (0.11.0)\n",
      "Requirement already satisfied: pyparsing>=2.3.1 in /Users/cmroney/Library/jupyterlab-desktop/jlab_server/lib/python3.8/site-packages (from matplotlib!=3.6.1,>=3.1->seaborn) (3.0.9)\n",
      "Requirement already satisfied: contourpy>=1.0.1 in /Users/cmroney/Library/jupyterlab-desktop/jlab_server/lib/python3.8/site-packages (from matplotlib!=3.6.1,>=3.1->seaborn) (1.0.7)\n",
      "Requirement already satisfied: kiwisolver>=1.0.1 in /Users/cmroney/Library/jupyterlab-desktop/jlab_server/lib/python3.8/site-packages (from matplotlib!=3.6.1,>=3.1->seaborn) (1.4.4)\n",
      "Requirement already satisfied: pillow>=6.2.0 in /Users/cmroney/Library/jupyterlab-desktop/jlab_server/lib/python3.8/site-packages (from matplotlib!=3.6.1,>=3.1->seaborn) (9.4.0)\n",
      "Requirement already satisfied: python-dateutil>=2.7 in /Users/cmroney/Library/jupyterlab-desktop/jlab_server/lib/python3.8/site-packages (from matplotlib!=3.6.1,>=3.1->seaborn) (2.8.2)\n",
      "Requirement already satisfied: pytz>=2020.1 in /Users/cmroney/Library/jupyterlab-desktop/jlab_server/lib/python3.8/site-packages (from pandas>=0.25->seaborn) (2022.7.1)\n",
      "Requirement already satisfied: zipp>=3.1.0 in /Users/cmroney/Library/jupyterlab-desktop/jlab_server/lib/python3.8/site-packages (from importlib-resources>=3.2.0->matplotlib!=3.6.1,>=3.1->seaborn) (3.14.0)\n",
      "Requirement already satisfied: six>=1.5 in /Users/cmroney/Library/jupyterlab-desktop/jlab_server/lib/python3.8/site-packages (from python-dateutil>=2.7->matplotlib!=3.6.1,>=3.1->seaborn) (1.16.0)\n",
      "Note: you may need to restart the kernel to use updated packages.\n"
     ]
    }
   ],
   "source": [
    "pip install seaborn"
   ]
  },
  {
   "cell_type": "code",
   "execution_count": 2,
   "id": "2ac6f072-9883-4e99-b74f-b4c59c6e6b38",
   "metadata": {
    "tags": []
   },
   "outputs": [
    {
     "name": "stdout",
     "output_type": "stream",
     "text": [
      "Requirement already satisfied: scikit-learn in /Users/cmroney/Library/jupyterlab-desktop/jlab_server/lib/python3.8/site-packages (1.2.2)\n",
      "Requirement already satisfied: joblib>=1.1.1 in /Users/cmroney/Library/jupyterlab-desktop/jlab_server/lib/python3.8/site-packages (from scikit-learn) (1.2.0)\n",
      "Requirement already satisfied: threadpoolctl>=2.0.0 in /Users/cmroney/Library/jupyterlab-desktop/jlab_server/lib/python3.8/site-packages (from scikit-learn) (3.1.0)\n",
      "Requirement already satisfied: numpy>=1.17.3 in /Users/cmroney/Library/jupyterlab-desktop/jlab_server/lib/python3.8/site-packages (from scikit-learn) (1.24.2)\n",
      "Requirement already satisfied: scipy>=1.3.2 in /Users/cmroney/Library/jupyterlab-desktop/jlab_server/lib/python3.8/site-packages (from scikit-learn) (1.10.0)\n"
     ]
    }
   ],
   "source": [
    "!pip install scikit-learn"
   ]
  },
  {
   "cell_type": "code",
   "execution_count": 3,
   "id": "b98c41d9-0ac5-446f-801a-e6043adb018a",
   "metadata": {
    "tags": []
   },
   "outputs": [
    {
     "name": "stdout",
     "output_type": "stream",
     "text": [
      "Requirement already satisfied: statsmodels in /Users/cmroney/Library/jupyterlab-desktop/jlab_server/lib/python3.8/site-packages (0.14.0)\n",
      "Requirement already satisfied: patsy>=0.5.2 in /Users/cmroney/Library/jupyterlab-desktop/jlab_server/lib/python3.8/site-packages (from statsmodels) (0.5.3)\n",
      "Requirement already satisfied: scipy!=1.9.2,>=1.4 in /Users/cmroney/Library/jupyterlab-desktop/jlab_server/lib/python3.8/site-packages (from statsmodels) (1.10.0)\n",
      "Requirement already satisfied: numpy>=1.18 in /Users/cmroney/Library/jupyterlab-desktop/jlab_server/lib/python3.8/site-packages (from statsmodels) (1.24.2)\n",
      "Requirement already satisfied: packaging>=21.3 in /Users/cmroney/Library/jupyterlab-desktop/jlab_server/lib/python3.8/site-packages (from statsmodels) (23.0)\n",
      "Requirement already satisfied: pandas>=1.0 in /Users/cmroney/Library/jupyterlab-desktop/jlab_server/lib/python3.8/site-packages (from statsmodels) (1.5.3)\n",
      "Requirement already satisfied: python-dateutil>=2.8.1 in /Users/cmroney/Library/jupyterlab-desktop/jlab_server/lib/python3.8/site-packages (from pandas>=1.0->statsmodels) (2.8.2)\n",
      "Requirement already satisfied: pytz>=2020.1 in /Users/cmroney/Library/jupyterlab-desktop/jlab_server/lib/python3.8/site-packages (from pandas>=1.0->statsmodels) (2022.7.1)\n",
      "Requirement already satisfied: six in /Users/cmroney/Library/jupyterlab-desktop/jlab_server/lib/python3.8/site-packages (from patsy>=0.5.2->statsmodels) (1.16.0)\n",
      "Note: you may need to restart the kernel to use updated packages.\n"
     ]
    }
   ],
   "source": [
    "pip install statsmodels"
   ]
  },
  {
   "cell_type": "code",
   "execution_count": 4,
   "id": "9358036b-a011-47a5-b1c4-198ce79e017b",
   "metadata": {
    "tags": []
   },
   "outputs": [],
   "source": [
    "import statsmodels.api as sm\n",
    "from statsmodels.formula.api import ols\n",
    "import statsmodels.formula.api as smf\n",
    "from statsmodels.tools import add_constant\n",
    "from statsmodels.stats.weightstats import ttest_ind\n",
    "import scipy.stats as stats\n",
    "from scipy.stats import kendalltau\n",
    "from scipy.stats import pearsonr\n",
    "import re\n",
    "import pandas as pd \n",
    "import numpy as np\n",
    "import seaborn as sns\n",
    "import matplotlib.pyplot as plt\n",
    "%matplotlib inline"
   ]
  },
  {
   "cell_type": "markdown",
   "id": "15efb1d4-c510-4685-800b-a03e0fdf1922",
   "metadata": {
    "tags": []
   },
   "source": [
    "### Cleaning"
   ]
  },
  {
   "cell_type": "code",
   "execution_count": 5,
   "id": "60493409-f0d4-4e93-97d4-63d70ff7f06a",
   "metadata": {
    "tags": []
   },
   "outputs": [],
   "source": [
    "#Reading the dataset \n",
    "\n",
    "df = pd.read_csv('New Sheet.csv')"
   ]
  },
  {
   "cell_type": "code",
   "execution_count": 6,
   "id": "379b6b02-470d-4ebf-99a5-5b39bfe38d71",
   "metadata": {
    "tags": []
   },
   "outputs": [
    {
     "name": "stdout",
     "output_type": "stream",
     "text": [
      "<class 'pandas.core.frame.DataFrame'>\n",
      "RangeIndex: 460 entries, 0 to 459\n",
      "Data columns (total 87 columns):\n",
      " #   Column           Non-Null Count  Dtype  \n",
      "---  ------           --------------  -----  \n",
      " 0   Unit ID          460 non-null    object \n",
      " 1   Outlet           460 non-null    int64  \n",
      " 2   Headline         460 non-null    object \n",
      " 3   Before_AFter     460 non-null    int64  \n",
      " 4   Article Type     460 non-null    int64  \n",
      " 5   Generalizations  460 non-null    int64  \n",
      " 6   Scientists       460 non-null    int64  \n",
      " 7   s1               305 non-null    object \n",
      " 8   sn1              301 non-null    float64\n",
      " 9   s2               152 non-null    object \n",
      " 10  sn2              151 non-null    float64\n",
      " 11  s3               80 non-null     object \n",
      " 12  sn3              80 non-null     float64\n",
      " 13  s4               41 non-null     object \n",
      " 14  sn4              42 non-null     object \n",
      " 15  s5               27 non-null     object \n",
      " 16  sn5              26 non-null     float64\n",
      " 17  s6               18 non-null     object \n",
      " 18  sn6              17 non-null     float64\n",
      " 19  s7               9 non-null      object \n",
      " 20  sn7              9 non-null      float64\n",
      " 21  s8               3 non-null      object \n",
      " 22  sn8              3 non-null      float64\n",
      " 23  s9               2 non-null      object \n",
      " 24  sn9              2 non-null      float64\n",
      " 25  s10              1 non-null      object \n",
      " 26  sn10             1 non-null      float64\n",
      " 27  91               307 non-null    float64\n",
      " 28  101              307 non-null    float64\n",
      " 29  111              307 non-null    float64\n",
      " 30  121              307 non-null    float64\n",
      " 31  131              307 non-null    float64\n",
      " 32  141              307 non-null    float64\n",
      " 33  92               154 non-null    float64\n",
      " 34  102              153 non-null    float64\n",
      " 35  112              153 non-null    float64\n",
      " 36  122              153 non-null    float64\n",
      " 37  132              153 non-null    float64\n",
      " 38  142              152 non-null    float64\n",
      " 39  93               80 non-null     float64\n",
      " 40  103              80 non-null     float64\n",
      " 41  113              80 non-null     float64\n",
      " 42  123              80 non-null     float64\n",
      " 43  133              80 non-null     float64\n",
      " 44  143              78 non-null     float64\n",
      " 45  94               42 non-null     float64\n",
      " 46  104              42 non-null     float64\n",
      " 47  114              42 non-null     float64\n",
      " 48  124              42 non-null     float64\n",
      " 49  134              42 non-null     float64\n",
      " 50  144              42 non-null     float64\n",
      " 51  95               28 non-null     float64\n",
      " 52  105              27 non-null     float64\n",
      " 53  115              27 non-null     float64\n",
      " 54  125              27 non-null     float64\n",
      " 55  135              27 non-null     float64\n",
      " 56  145              27 non-null     float64\n",
      " 57  96               19 non-null     float64\n",
      " 58  106              19 non-null     float64\n",
      " 59  116              19 non-null     float64\n",
      " 60  126              19 non-null     float64\n",
      " 61  136              19 non-null     float64\n",
      " 62  146              19 non-null     float64\n",
      " 63  97               9 non-null      float64\n",
      " 64  107              9 non-null      float64\n",
      " 65  117              9 non-null      float64\n",
      " 66  127              9 non-null      float64\n",
      " 67  137              9 non-null      float64\n",
      " 68  147              9 non-null      float64\n",
      " 69  98               3 non-null      float64\n",
      " 70  108              3 non-null      float64\n",
      " 71  118              3 non-null      float64\n",
      " 72  128              3 non-null      float64\n",
      " 73  138              3 non-null      float64\n",
      " 74  148              3 non-null      float64\n",
      " 75  99               2 non-null      float64\n",
      " 76  109              2 non-null      float64\n",
      " 77  119              2 non-null      float64\n",
      " 78  129              2 non-null      float64\n",
      " 79  139              2 non-null      float64\n",
      " 80  149              2 non-null      float64\n",
      " 81  910              1 non-null      float64\n",
      " 82  1010             1 non-null      float64\n",
      " 83  1110             1 non-null      float64\n",
      " 84  1210             1 non-null      float64\n",
      " 85  1310             1 non-null      float64\n",
      " 86  1410             1 non-null      float64\n",
      "dtypes: float64(69), int64(5), object(13)\n",
      "memory usage: 312.8+ KB\n"
     ]
    }
   ],
   "source": [
    "# Examining the data types and null data\n",
    "\n",
    "df.info()"
   ]
  },
  {
   "cell_type": "code",
   "execution_count": 7,
   "id": "dc5c1671-51bb-46a9-803b-bffc0bf41687",
   "metadata": {
    "tags": []
   },
   "outputs": [],
   "source": [
    "# Setting the display option to show all columns and rows\n",
    "pd.set_option('display.max_columns', None)\n",
    "pd.set_option('display.max_rows', None)\n",
    "df"
   ]
  },
  {
   "cell_type": "code",
   "execution_count": 8,
   "id": "07be930f-8342-45f9-b0fd-0cf1fc2bd582",
   "metadata": {
    "tags": []
   },
   "outputs": [
    {
     "data": {
      "text/plain": [
       "31673"
      ]
     },
     "execution_count": 8,
     "metadata": {},
     "output_type": "execute_result"
    }
   ],
   "source": [
    "# Calculating missing values  \n",
    "missing_values_count = df.isnull().sum().sum()\n",
    "missing_values_count"
   ]
  },
  {
   "cell_type": "code",
   "execution_count": 9,
   "id": "c949f5c1-3d6c-4ab5-b6a6-4021e9707d85",
   "metadata": {
    "tags": []
   },
   "outputs": [],
   "source": [
    "# Filling missing values with '0' as this was not a part of the codebook so it can not be conflated with other values.\n",
    "df = df.fillna('0')"
   ]
  },
  {
   "cell_type": "code",
   "execution_count": 10,
   "id": "8fb6b5dc-3cd4-4e5d-b655-69578ae6134c",
   "metadata": {
    "tags": []
   },
   "outputs": [],
   "source": [
    "# Checking command was implemented\n",
    "df.head(10)"
   ]
  },
  {
   "cell_type": "code",
   "execution_count": 11,
   "id": "0674d0f0-9e98-40cb-be44-f244cf25766d",
   "metadata": {
    "tags": []
   },
   "outputs": [],
   "source": [
    "# Converting float columns to object data types for categorical variables \n",
    "float_columns = ['91', '101', '121', '131', '92', '102', '122', '132', '93', '103', '123', '133', '94', '104', '124', '134', '95', '105', '125', '135', '96', '106', '126', '136', '97', '107', '127', '137', '98', '108', '128', '138', '99', '109', '129', '139', '910', '1010', '1210', '1310']\n",
    "\n",
    "df[float_columns] = df[float_columns].astype(int).astype(object)"
   ]
  },
  {
   "cell_type": "code",
   "execution_count": 12,
   "id": "da532cfe-c9c3-4355-b296-3bfc37b8989c",
   "metadata": {},
   "outputs": [],
   "source": [
    "#Defining a lambda function to take out decimal spaces for string > object columns \n",
    "\n",
    "clean_float = lambda x: int(str(x).split('.')[0].strip()) if str(x) != '' else 0\n",
    "\n",
    "df[float_columns] = df[float_columns].applymap(clean_float)"
   ]
  },
  {
   "cell_type": "code",
   "execution_count": 13,
   "id": "4cb14aae-b29e-4d92-9b89-9525c000d31f",
   "metadata": {
    "tags": []
   },
   "outputs": [],
   "source": [
    "#Removing trailing spaces\n",
    "\n",
    "df['s1'] = df['s1'].astype(str).apply(lambda x: re.sub(r'\\.0+$', '', x.strip()))"
   ]
  },
  {
   "cell_type": "code",
   "execution_count": 14,
   "id": "f4829a71-ed8a-4bc0-b425-aa76f1b0c4a7",
   "metadata": {
    "tags": []
   },
   "outputs": [],
   "source": [
    "df['s2'] = df['s2'].astype(str).apply(lambda x: re.sub(r'\\.0+$', '', x.strip()))"
   ]
  },
  {
   "cell_type": "code",
   "execution_count": 15,
   "id": "7909f19a-862b-464b-9e8a-4b18ff557caa",
   "metadata": {
    "tags": []
   },
   "outputs": [],
   "source": [
    "df['s3'] = df['s3'].astype(str).apply(lambda x: re.sub(r'\\.0+$', '', x.strip()))"
   ]
  },
  {
   "cell_type": "code",
   "execution_count": 16,
   "id": "a5d7a999-ffdb-47b5-b0ba-a418a8a25ccb",
   "metadata": {
    "tags": []
   },
   "outputs": [],
   "source": [
    "df['s4'] = df['s4'].astype(str).apply(lambda x: re.sub(r'\\.0+$', '', x.strip()))"
   ]
  },
  {
   "cell_type": "code",
   "execution_count": 17,
   "id": "4ceb870a-aa2d-40ea-a7f0-b48ad571613e",
   "metadata": {
    "tags": []
   },
   "outputs": [],
   "source": [
    "df['s5'] = df['s5'].astype(str).apply(lambda x: re.sub(r'\\.0+$', '', x.strip()))"
   ]
  },
  {
   "cell_type": "code",
   "execution_count": 18,
   "id": "56aa94aa-f84e-4e4e-aecc-4ec986eb0d2e",
   "metadata": {
    "tags": []
   },
   "outputs": [],
   "source": [
    "df['s6'] = df['s6'].astype(str).apply(lambda x: re.sub(r'\\.0+$', '', x.strip()))"
   ]
  },
  {
   "cell_type": "code",
   "execution_count": 19,
   "id": "47cb3745-68eb-4e81-8477-22a38b654e18",
   "metadata": {
    "tags": []
   },
   "outputs": [],
   "source": [
    "df['s7'] = df['s7'].astype(str).apply(lambda x: re.sub(r'\\.0+$', '', x.strip()))"
   ]
  },
  {
   "cell_type": "code",
   "execution_count": 20,
   "id": "6905d1c3-17c1-40ee-a4df-6c9936f3ade6",
   "metadata": {
    "tags": []
   },
   "outputs": [],
   "source": [
    "df['s8'] = df['s8'].astype(str).apply(lambda x: re.sub(r'\\.0+$', '', x.strip()))"
   ]
  },
  {
   "cell_type": "code",
   "execution_count": 21,
   "id": "af20801a-2732-409c-ba8c-2e85b50c2471",
   "metadata": {},
   "outputs": [],
   "source": [
    "df['s9'] = df['s9'].astype(str).apply(lambda x: re.sub(r'\\.0+$', '', x.strip()))"
   ]
  },
  {
   "cell_type": "code",
   "execution_count": 22,
   "id": "f0dbde2e-cbca-4690-9a90-d14e7a5d97e8",
   "metadata": {},
   "outputs": [],
   "source": [
    "df['s10'] = df['s10'].astype(str).apply(lambda x: re.sub(r'\\.0+$', '', x.strip()))"
   ]
  },
  {
   "cell_type": "code",
   "execution_count": 23,
   "id": "88905839-fe7b-45de-9cc8-e2223e5a0482",
   "metadata": {
    "tags": []
   },
   "outputs": [],
   "source": [
    "# Converting to object columns from string \n",
    "\n",
    "df['Outlet'] = df['Outlet'].astype('object')\n",
    "df['Before_AFter'] = df['Before_AFter'].astype('object')\n",
    "df['Article Type'] = df['Article Type'].astype('object')"
   ]
  },
  {
   "cell_type": "code",
   "execution_count": 24,
   "id": "8d3216db-27a1-4b1d-8b78-6beb56ae1b05",
   "metadata": {
    "tags": []
   },
   "outputs": [
    {
     "name": "stdout",
     "output_type": "stream",
     "text": [
      "<class 'pandas.core.frame.DataFrame'>\n",
      "RangeIndex: 460 entries, 0 to 459\n",
      "Data columns (total 87 columns):\n",
      " #   Column           Non-Null Count  Dtype \n",
      "---  ------           --------------  ----- \n",
      " 0   Unit ID          460 non-null    object\n",
      " 1   Outlet           460 non-null    object\n",
      " 2   Headline         460 non-null    object\n",
      " 3   Before_AFter     460 non-null    object\n",
      " 4   Article Type     460 non-null    object\n",
      " 5   Generalizations  460 non-null    int64 \n",
      " 6   Scientists       460 non-null    int64 \n",
      " 7   s1               460 non-null    object\n",
      " 8   sn1              460 non-null    object\n",
      " 9   s2               460 non-null    object\n",
      " 10  sn2              460 non-null    object\n",
      " 11  s3               460 non-null    object\n",
      " 12  sn3              460 non-null    object\n",
      " 13  s4               460 non-null    object\n",
      " 14  sn4              460 non-null    object\n",
      " 15  s5               460 non-null    object\n",
      " 16  sn5              460 non-null    object\n",
      " 17  s6               460 non-null    object\n",
      " 18  sn6              460 non-null    object\n",
      " 19  s7               460 non-null    object\n",
      " 20  sn7              460 non-null    object\n",
      " 21  s8               460 non-null    object\n",
      " 22  sn8              460 non-null    object\n",
      " 23  s9               460 non-null    object\n",
      " 24  sn9              460 non-null    object\n",
      " 25  s10              460 non-null    object\n",
      " 26  sn10             460 non-null    object\n",
      " 27  91               460 non-null    int64 \n",
      " 28  101              460 non-null    int64 \n",
      " 29  111              460 non-null    object\n",
      " 30  121              460 non-null    int64 \n",
      " 31  131              460 non-null    int64 \n",
      " 32  141              460 non-null    object\n",
      " 33  92               460 non-null    int64 \n",
      " 34  102              460 non-null    int64 \n",
      " 35  112              460 non-null    object\n",
      " 36  122              460 non-null    int64 \n",
      " 37  132              460 non-null    int64 \n",
      " 38  142              460 non-null    object\n",
      " 39  93               460 non-null    int64 \n",
      " 40  103              460 non-null    int64 \n",
      " 41  113              460 non-null    object\n",
      " 42  123              460 non-null    int64 \n",
      " 43  133              460 non-null    int64 \n",
      " 44  143              460 non-null    object\n",
      " 45  94               460 non-null    int64 \n",
      " 46  104              460 non-null    int64 \n",
      " 47  114              460 non-null    object\n",
      " 48  124              460 non-null    int64 \n",
      " 49  134              460 non-null    int64 \n",
      " 50  144              460 non-null    object\n",
      " 51  95               460 non-null    int64 \n",
      " 52  105              460 non-null    int64 \n",
      " 53  115              460 non-null    object\n",
      " 54  125              460 non-null    int64 \n",
      " 55  135              460 non-null    int64 \n",
      " 56  145              460 non-null    object\n",
      " 57  96               460 non-null    int64 \n",
      " 58  106              460 non-null    int64 \n",
      " 59  116              460 non-null    object\n",
      " 60  126              460 non-null    int64 \n",
      " 61  136              460 non-null    int64 \n",
      " 62  146              460 non-null    object\n",
      " 63  97               460 non-null    int64 \n",
      " 64  107              460 non-null    int64 \n",
      " 65  117              460 non-null    object\n",
      " 66  127              460 non-null    int64 \n",
      " 67  137              460 non-null    int64 \n",
      " 68  147              460 non-null    object\n",
      " 69  98               460 non-null    int64 \n",
      " 70  108              460 non-null    int64 \n",
      " 71  118              460 non-null    object\n",
      " 72  128              460 non-null    int64 \n",
      " 73  138              460 non-null    int64 \n",
      " 74  148              460 non-null    object\n",
      " 75  99               460 non-null    int64 \n",
      " 76  109              460 non-null    int64 \n",
      " 77  119              460 non-null    object\n",
      " 78  129              460 non-null    int64 \n",
      " 79  139              460 non-null    int64 \n",
      " 80  149              460 non-null    object\n",
      " 81  910              460 non-null    int64 \n",
      " 82  1010             460 non-null    int64 \n",
      " 83  1110             460 non-null    object\n",
      " 84  1210             460 non-null    int64 \n",
      " 85  1310             460 non-null    int64 \n",
      " 86  1410             460 non-null    object\n",
      "dtypes: int64(42), object(45)\n",
      "memory usage: 312.8+ KB\n"
     ]
    }
   ],
   "source": [
    "#Confirmed\n",
    "\n",
    "df.info()"
   ]
  },
  {
   "cell_type": "code",
   "execution_count": 25,
   "id": "9ddecd84-2bf6-42db-8c94-5cc16309229d",
   "metadata": {
    "tags": []
   },
   "outputs": [
    {
     "name": "stdout",
     "output_type": "stream",
     "text": [
      "0       0\n",
      "1       0\n",
      "2       3\n",
      "3       0\n",
      "4       0\n",
      "5       0\n",
      "6       0\n",
      "7       0\n",
      "8       0\n",
      "9       0\n",
      "10      0\n",
      "11      0\n",
      "12      0\n",
      "13      0\n",
      "14      0\n",
      "15      0\n",
      "16      0\n",
      "17      0\n",
      "18      0\n",
      "19      0\n",
      "20      0\n",
      "21      0\n",
      "22      0\n",
      "23      0\n",
      "24      0\n",
      "25      0\n",
      "26      0\n",
      "27      0\n",
      "28      0\n",
      "29      0\n",
      "30     17\n",
      "31      0\n",
      "32      0\n",
      "33      0\n",
      "34      1\n",
      "35      0\n",
      "36      3\n",
      "37      0\n",
      "38      0\n",
      "39      0\n",
      "40      0\n",
      "41      0\n",
      "42      0\n",
      "43      0\n",
      "44      0\n",
      "45      0\n",
      "46      0\n",
      "47      0\n",
      "48      0\n",
      "49      0\n",
      "50      0\n",
      "51      0\n",
      "52      0\n",
      "53      0\n",
      "54      1\n",
      "55      0\n",
      "56      0\n",
      "57      0\n",
      "58      0\n",
      "59      0\n",
      "60      0\n",
      "61      0\n",
      "62      4\n",
      "63      0\n",
      "64      0\n",
      "65      0\n",
      "66      0\n",
      "67      0\n",
      "68      0\n",
      "69      0\n",
      "70      0\n",
      "71      0\n",
      "72      0\n",
      "73      0\n",
      "74      3\n",
      "75      0\n",
      "76      0\n",
      "77      0\n",
      "78      0\n",
      "79      0\n",
      "80      0\n",
      "81      1\n",
      "82      0\n",
      "83      0\n",
      "84      1\n",
      "85      0\n",
      "86      0\n",
      "87      0\n",
      "88      0\n",
      "89      0\n",
      "90      0\n",
      "91      0\n",
      "92      0\n",
      "93      2\n",
      "94      2\n",
      "95      0\n",
      "96      0\n",
      "97      0\n",
      "98      2\n",
      "99      0\n",
      "100     0\n",
      "101     0\n",
      "102     0\n",
      "103     0\n",
      "104     0\n",
      "105     2\n",
      "106     0\n",
      "107     0\n",
      "108     0\n",
      "109     2\n",
      "110     0\n",
      "111     0\n",
      "112     0\n",
      "113     0\n",
      "114      \n",
      "115     0\n",
      "116     0\n",
      "117     0\n",
      "118     0\n",
      "119     0\n",
      "120     0\n",
      "121     0\n",
      "122     0\n",
      "123     0\n",
      "124     0\n",
      "125     2\n",
      "126     0\n",
      "127     0\n",
      "128     2\n",
      "129     0\n",
      "130     0\n",
      "131     0\n",
      "132     0\n",
      "133     0\n",
      "134     0\n",
      "135     2\n",
      "136     0\n",
      "137     0\n",
      "138     0\n",
      "139     0\n",
      "140     0\n",
      "141     0\n",
      "142     0\n",
      "143     0\n",
      "144     0\n",
      "145     0\n",
      "146     0\n",
      "147     0\n",
      "148     0\n",
      "149     0\n",
      "150     0\n",
      "151     0\n",
      "152     2\n",
      "153     0\n",
      "154     0\n",
      "155     0\n",
      "156     0\n",
      "157     2\n",
      "158     0\n",
      "159     0\n",
      "160     0\n",
      "161     2\n",
      "162     0\n",
      "163     0\n",
      "164     0\n",
      "165     0\n",
      "166     0\n",
      "167     2\n",
      "168     0\n",
      "169     0\n",
      "170     0\n",
      "171     0\n",
      "172     3\n",
      "173     0\n",
      "174     0\n",
      "175     1\n",
      "176     0\n",
      "177     0\n",
      "178     0\n",
      "179     0\n",
      "180     0\n",
      "181     0\n",
      "182     0\n",
      "183     0\n",
      "184     0\n",
      "185     0\n",
      "186     0\n",
      "187     0\n",
      "188     0\n",
      "189     0\n",
      "190     0\n",
      "191     1\n",
      "192     0\n",
      "193     0\n",
      "194     0\n",
      "195     0\n",
      "196     1\n",
      "197     0\n",
      "198     0\n",
      "199     0\n",
      "200     0\n",
      "201     0\n",
      "202     0\n",
      "203     0\n",
      "204     0\n",
      "205     0\n",
      "206     0\n",
      "207     0\n",
      "208     0\n",
      "209     2\n",
      "210     2\n",
      "211     0\n",
      "212     0\n",
      "213     0\n",
      "214     0\n",
      "215     3\n",
      "216     0\n",
      "217     0\n",
      "218     0\n",
      "219     0\n",
      "220     0\n",
      "221     0\n",
      "222     0\n",
      "223     0\n",
      "224     3\n",
      "225     0\n",
      "226     0\n",
      "227     0\n",
      "228     0\n",
      "229     0\n",
      "230     0\n",
      "231     0\n",
      "232     0\n",
      "233     0\n",
      "234     0\n",
      "235     0\n",
      "236     0\n",
      "237     1\n",
      "238     0\n",
      "239     0\n",
      "240     0\n",
      "241     0\n",
      "242     2\n",
      "243     0\n",
      "244     0\n",
      "245     0\n",
      "246     0\n",
      "247     0\n",
      "248     1\n",
      "249     0\n",
      "250     0\n",
      "251     0\n",
      "252     0\n",
      "253     0\n",
      "254     0\n",
      "255     0\n",
      "256     1\n",
      "257     1\n",
      "258     0\n",
      "259     0\n",
      "260     0\n",
      "261     2\n",
      "262     0\n",
      "263     0\n",
      "264     0\n",
      "265     0\n",
      "266     0\n",
      "267     0\n",
      "268     0\n",
      "269     0\n",
      "270     0\n",
      "271     0\n",
      "272     0\n",
      "273     0\n",
      "274     0\n",
      "275     0\n",
      "276     0\n",
      "277     0\n",
      "278     0\n",
      "279     0\n",
      "280     0\n",
      "281     0\n",
      "282     0\n",
      "283     0\n",
      "284     0\n",
      "285     0\n",
      "286     0\n",
      "287     0\n",
      "288     0\n",
      "289     3\n",
      "290     0\n",
      "291     0\n",
      "292     0\n",
      "293     0\n",
      "294     0\n",
      "295     0\n",
      "296     0\n",
      "297     0\n",
      "298     0\n",
      "299     0\n",
      "300     0\n",
      "301     0\n",
      "302     0\n",
      "303     0\n",
      "304     0\n",
      "305     0\n",
      "306     0\n",
      "307     0\n",
      "308     0\n",
      "309     0\n",
      "310     0\n",
      "311     0\n",
      "312     0\n",
      "313     0\n",
      "314     0\n",
      "315     0\n",
      "316     0\n",
      "317     0\n",
      "318     0\n",
      "319     0\n",
      "320     0\n",
      "321     0\n",
      "322     0\n",
      "323     0\n",
      "324     0\n",
      "325     0\n",
      "326     0\n",
      "327     0\n",
      "328     0\n",
      "329     0\n",
      "330     0\n",
      "331     0\n",
      "332     0\n",
      "333     0\n",
      "334     0\n",
      "335     0\n",
      "336     0\n",
      "337     0\n",
      "338     0\n",
      "339     0\n",
      "340     0\n",
      "341     0\n",
      "342     0\n",
      "343     1\n",
      "344     0\n",
      "345     0\n",
      "346     0\n",
      "347     0\n",
      "348     0\n",
      "349     0\n",
      "350     0\n",
      "351     0\n",
      "352     0\n",
      "353     0\n",
      "354     0\n",
      "355     0\n",
      "356     0\n",
      "357     0\n",
      "358     3\n",
      "359     0\n",
      "360     0\n",
      "361     0\n",
      "362     0\n",
      "363     0\n",
      "364     0\n",
      "365     0\n",
      "366     0\n",
      "367     0\n",
      "368     0\n",
      "369     0\n",
      "370     0\n",
      "371     0\n",
      "372     0\n",
      "373     0\n",
      "374     0\n",
      "375     0\n",
      "376     0\n",
      "377     0\n",
      "378     0\n",
      "379     0\n",
      "380     0\n",
      "381     0\n",
      "382     0\n",
      "383     0\n",
      "384     0\n",
      "385     0\n",
      "386     0\n",
      "387     0\n",
      "388     0\n",
      "389     0\n",
      "390     0\n",
      "391     0\n",
      "392     0\n",
      "393     0\n",
      "394     0\n",
      "395     0\n",
      "396     0\n",
      "397     0\n",
      "398     0\n",
      "399     0\n",
      "400     0\n",
      "401     0\n",
      "402     0\n",
      "403     0\n",
      "404     0\n",
      "405     0\n",
      "406     0\n",
      "407     0\n",
      "408     0\n",
      "409     1\n",
      "410     0\n",
      "411     0\n",
      "412     0\n",
      "413     0\n",
      "414     0\n",
      "415     0\n",
      "416     0\n",
      "417     0\n",
      "418     1\n",
      "419     0\n",
      "420     0\n",
      "421     0\n",
      "422     0\n",
      "423     0\n",
      "424     0\n",
      "425     0\n",
      "426     0\n",
      "427     0\n",
      "428     0\n",
      "429     0\n",
      "430     0\n",
      "431     0\n",
      "432     0\n",
      "433     0\n",
      "434     0\n",
      "435     0\n",
      "436     0\n",
      "437     0\n",
      "438     0\n",
      "439     0\n",
      "440     0\n",
      "441     0\n",
      "442     0\n",
      "443     0\n",
      "444     0\n",
      "445     0\n",
      "446     0\n",
      "447     0\n",
      "448     0\n",
      "449     0\n",
      "450     0\n",
      "451     0\n",
      "452     0\n",
      "453     0\n",
      "454     0\n",
      "455     0\n",
      "456     0\n",
      "457     0\n",
      "458     4\n",
      "459     0\n",
      "Name: sn4, dtype: object\n"
     ]
    }
   ],
   "source": [
    "# Instead of 460 entries, 'sn4' had 459 entries and printing the row located hte missing value at row 114\n",
    "\n",
    "print(df['sn4'])"
   ]
  },
  {
   "cell_type": "code",
   "execution_count": 26,
   "id": "98f287c9-ef06-41fc-9f08-81a2175a07ff",
   "metadata": {
    "tags": []
   },
   "outputs": [],
   "source": [
    "# AFter manually reviewing the dataset, confirmed that sn4x114 this was missing in the excel sheet  \n",
    "column_name = 'sn4'\n",
    "row_number = 114 \n",
    "\n",
    "# Using 'at' accessor to replace the value at the specified location with '0'\n",
    "df.at[row_number, column_name] = 0"
   ]
  },
  {
   "cell_type": "code",
   "execution_count": 27,
   "id": "f8dd0e95-4cf6-4bc8-bf20-9dcbce485061",
   "metadata": {
    "tags": []
   },
   "outputs": [],
   "source": [
    "# Stripping decimals and trailing spacces before converting object to integer\n",
    "\n",
    "float2_columns = ['sn1', 'sn2', 'sn3', 'sn4', 'sn5', 'sn6', 'sn7', 'sn8', 'sn9', 'sn10', '111', '141', '112', '142', '113', '143', '114', '144', '115', '145', '116', '146', '117', '147', '118', '148', '119', '149', '1110', '1410']\n",
    "\n",
    "clean_float = lambda x: int(str(x).split('.')[0].strip()) if str(x) != '' else 0\n",
    "\n",
    "df[float2_columns] = df[float2_columns].applymap(clean_float)\n",
    "\n",
    "df[float2_columns] = df[float2_columns].astype(float).astype(int)"
   ]
  },
  {
   "cell_type": "code",
   "execution_count": 28,
   "id": "8b4e94c8-ec60-43d6-b712-522a395f916f",
   "metadata": {
    "tags": []
   },
   "outputs": [
    {
     "data": {
      "text/plain": [
       "Unit ID            object\n",
       "Outlet             object\n",
       "Headline           object\n",
       "Before_AFter       object\n",
       "Article Type       object\n",
       "Generalizations     int64\n",
       "Scientists          int64\n",
       "s1                 object\n",
       "sn1                 int64\n",
       "s2                 object\n",
       "sn2                 int64\n",
       "s3                 object\n",
       "sn3                 int64\n",
       "s4                 object\n",
       "sn4                 int64\n",
       "s5                 object\n",
       "sn5                 int64\n",
       "s6                 object\n",
       "sn6                 int64\n",
       "s7                 object\n",
       "sn7                 int64\n",
       "s8                 object\n",
       "sn8                 int64\n",
       "s9                 object\n",
       "sn9                 int64\n",
       "s10                object\n",
       "sn10                int64\n",
       "91                  int64\n",
       "101                 int64\n",
       "111                 int64\n",
       "121                 int64\n",
       "131                 int64\n",
       "141                 int64\n",
       "92                  int64\n",
       "102                 int64\n",
       "112                 int64\n",
       "122                 int64\n",
       "132                 int64\n",
       "142                 int64\n",
       "93                  int64\n",
       "103                 int64\n",
       "113                 int64\n",
       "123                 int64\n",
       "133                 int64\n",
       "143                 int64\n",
       "94                  int64\n",
       "104                 int64\n",
       "114                 int64\n",
       "124                 int64\n",
       "134                 int64\n",
       "144                 int64\n",
       "95                  int64\n",
       "105                 int64\n",
       "115                 int64\n",
       "125                 int64\n",
       "135                 int64\n",
       "145                 int64\n",
       "96                  int64\n",
       "106                 int64\n",
       "116                 int64\n",
       "126                 int64\n",
       "136                 int64\n",
       "146                 int64\n",
       "97                  int64\n",
       "107                 int64\n",
       "117                 int64\n",
       "127                 int64\n",
       "137                 int64\n",
       "147                 int64\n",
       "98                  int64\n",
       "108                 int64\n",
       "118                 int64\n",
       "128                 int64\n",
       "138                 int64\n",
       "148                 int64\n",
       "99                  int64\n",
       "109                 int64\n",
       "119                 int64\n",
       "129                 int64\n",
       "139                 int64\n",
       "149                 int64\n",
       "910                 int64\n",
       "1010                int64\n",
       "1110                int64\n",
       "1210                int64\n",
       "1310                int64\n",
       "1410                int64\n",
       "dtype: object"
      ]
     },
     "execution_count": 28,
     "metadata": {},
     "output_type": "execute_result"
    }
   ],
   "source": [
    "#Confirmed \n",
    "\n",
    "df.dtypes"
   ]
  },
  {
   "cell_type": "markdown",
   "id": "03cefbcd-9e79-473c-a18f-1ebbcc76516a",
   "metadata": {
    "tags": []
   },
   "source": [
    "### Descriptive Statistics"
   ]
  },
  {
   "cell_type": "code",
   "execution_count": 29,
   "id": "b554c3e4-82eb-4abf-8c06-ffae1395a49d",
   "metadata": {},
   "outputs": [],
   "source": [
    "# Examining\n",
    "\n",
    "df.head()"
   ]
  },
  {
   "cell_type": "code",
   "execution_count": 30,
   "id": "bfb788a4-2878-41dc-af54-cb04cc93dec3",
   "metadata": {
    "tags": []
   },
   "outputs": [
    {
     "data": {
      "text/plain": [
       "1    404\n",
       "3     33\n",
       "2     23\n",
       "Name: Article Type, dtype: int64"
      ]
     },
     "execution_count": 30,
     "metadata": {},
     "output_type": "execute_result"
    }
   ],
   "source": [
    "# Variable value counts \n",
    "df['Article Type'].value_counts()"
   ]
  },
  {
   "cell_type": "code",
   "execution_count": 31,
   "id": "7b2babb6-96b4-42e4-b19b-3e857fc583c2",
   "metadata": {
    "tags": []
   },
   "outputs": [
    {
     "name": "stdout",
     "output_type": "stream",
     "text": [
      "0    4042\n",
      "4     176\n",
      "8     136\n",
      "2     123\n",
      "7      40\n",
      "3      39\n",
      "1      23\n",
      "9      19\n",
      "6       2\n",
      "dtype: int64\n"
     ]
    }
   ],
   "source": [
    "# Data was spread horizontally, meaning that the cases of the data were articles and the columns represented scientists\n",
    "# named in the article. This created more than 87 columns of data pertaining to 13 original codebook variables. To \n",
    "# attain statistics for the variables, the columns had to be grouped.  \n",
    "\n",
    "combined_columns = df[['101', '102', '103', '104', '105', '106', '107', '108', '109', '1010']].values.flatten()\n",
    "\n",
    "value_counts = pd.Series(combined_columns).value_counts()\n",
    "\n",
    "print(value_counts)"
   ]
  },
  {
   "cell_type": "code",
   "execution_count": 32,
   "id": "307d6a86-d96b-407c-92f0-8e921a5ac85c",
   "metadata": {
    "tags": []
   },
   "outputs": [
    {
     "name": "stdout",
     "output_type": "stream",
     "text": [
      "Mean: 1.4043478260869566\n",
      "Standard Deviation: 1.6777257538417802\n",
      "Confidence Interval (95%): (1.2506255440943, 1.5580701080796133)\n"
     ]
    },
    {
     "data": {
      "text/plain": [
       "0"
      ]
     },
     "execution_count": 32,
     "metadata": {},
     "output_type": "execute_result"
    }
   ],
   "source": [
    "# Descriptive statistics for number of scientists  per article\n",
    "\n",
    "column_name = 'Scientists'\n",
    "\n",
    "column_values = df[column_name].values\n",
    "\n",
    "mean = np.mean(column_values)\n",
    "std = np.std(column_values)\n",
    "\n",
    "confidence_level = 0.95\n",
    "degrees_of_freedom = len(column_values) - 1\n",
    "t_value = stats.t.ppf((1 + confidence_level) / 2, degrees_of_freedom)\n",
    "margin_of_error = t_value * (std / np.sqrt(len(column_values)))\n",
    "confidence_interval = (mean - margin_of_error, mean + margin_of_error)\n",
    "\n",
    "print(\"Mean:\", mean)\n",
    "print(\"Standard Deviation:\", std)\n",
    "print(\"Confidence Interval ({}%):\".format(int(confidence_level * 100)), confidence_interval)\n",
    "0"
   ]
  },
  {
   "cell_type": "code",
   "execution_count": 33,
   "id": "29602388-3e1b-467d-a24a-d45959fbcf96",
   "metadata": {
    "tags": []
   },
   "outputs": [
    {
     "name": "stdout",
     "output_type": "stream",
     "text": [
      "Mean: 5.060869565217391\n",
      "Standard Deviation: 4.187532128929025\n",
      "Confidence Interval (95%): (4.677185287079259, 5.444553843355524)\n"
     ]
    }
   ],
   "source": [
    "# Descriptive statistics for frequency of generalization mentions per article\n",
    "column_name = 'Generalizations'\n",
    "\n",
    "column_values = df[column_name].values\n",
    "\n",
    "mean = np.mean(column_values)\n",
    "std = np.std(column_values)\n",
    "\n",
    "confidence_level = 0.95\n",
    "degrees_of_freedom = len(column_values) - 1\n",
    "t_value = stats.t.ppf((1 + confidence_level) / 2, degrees_of_freedom)\n",
    "margin_of_error = t_value * (std / np.sqrt(len(column_values)))\n",
    "confidence_interval = (mean - margin_of_error, mean + margin_of_error)\n",
    "\n",
    "print(\"Mean:\", mean)\n",
    "print(\"Standard Deviation:\", std)\n",
    "print(\"Confidence Interval ({}%):\".format(int(confidence_level * 100)), confidence_interval)\n"
   ]
  },
  {
   "cell_type": "code",
   "execution_count": 34,
   "id": "d5c3bafc-c99e-44ae-8b40-4e173229f000",
   "metadata": {
    "tags": []
   },
   "outputs": [
    {
     "name": "stdout",
     "output_type": "stream",
     "text": [
      "Mean: 0.39565217391304347\n",
      "Standard Deviation: 1.649104700678408\n",
      "Confidence Interval (95%): (0.24455230717224297, 0.546752040653844)\n",
      "              sn1         sn2         sn3         sn4         sn5         sn6  \\\n",
      "count  460.000000  460.000000  460.000000  460.000000  460.000000  460.000000   \n",
      "mean     2.436957    0.723913    0.323913    0.206522    0.121739    0.093478   \n",
      "std      4.130014    1.516745    0.833316    0.991665    0.684695    0.754046   \n",
      "min      0.000000    0.000000    0.000000    0.000000    0.000000    0.000000   \n",
      "25%      0.000000    0.000000    0.000000    0.000000    0.000000    0.000000   \n",
      "50%      1.000000    0.000000    0.000000    0.000000    0.000000    0.000000   \n",
      "75%      3.000000    1.000000    0.000000    0.000000    0.000000    0.000000   \n",
      "max     56.000000   15.000000    7.000000   17.000000   11.000000   14.000000   \n",
      "\n",
      "              sn7         sn8         sn9        sn10  \n",
      "count  460.000000  460.000000  460.000000  460.000000  \n",
      "mean     0.030435    0.006522    0.010870    0.002174  \n",
      "std      0.236044    0.080581    0.192142    0.046625  \n",
      "min      0.000000    0.000000    0.000000    0.000000  \n",
      "25%      0.000000    0.000000    0.000000    0.000000  \n",
      "50%      0.000000    0.000000    0.000000    0.000000  \n",
      "75%      0.000000    0.000000    0.000000    0.000000  \n",
      "max      3.000000    1.000000    4.000000    1.000000  \n"
     ]
    }
   ],
   "source": [
    "# Descriptive statistics for frequency of scientist mentions per article\n",
    "\n",
    "group_columns = ['sn1', 'sn2', 'sn3', 'sn4', 'sn5', 'sn6', 'sn7', 'sn8', 'sn9', 'sn10']\n",
    "\n",
    "group_mean = np.mean(df[group_columns].values)\n",
    "group_std = np.std(df[group_columns].values)\n",
    "\n",
    "confidence_level = 0.95\n",
    "degrees_of_freedom = len(df[group_columns]) - 1\n",
    "t_value = stats.t.ppf((1 + confidence_level) / 2, degrees_of_freedom)\n",
    "margin_of_error = t_value * (group_std / np.sqrt(len(df[group_columns])))\n",
    "confidence_interval = (group_mean - margin_of_error, group_mean + margin_of_error)\n",
    "\n",
    "print(\"Mean:\", group_mean)\n",
    "print(\"Standard Deviation:\", group_std)\n",
    "print(\"Confidence Interval ({}%):\".format(int(confidence_level * 100)), confidence_interval)\n",
    "\n",
    "\n",
    "group_statistics = df[group_columns].describe()\n",
    "\n",
    "print(group_statistics)"
   ]
  },
  {
   "cell_type": "code",
   "execution_count": 35,
   "id": "7a1680ab-753d-45c8-a5d2-dcfe5f00b79c",
   "metadata": {
    "tags": []
   },
   "outputs": [
    {
     "name": "stdout",
     "output_type": "stream",
     "text": [
      "Mean: 0.2541304347826087\n",
      "Standard Deviation: 0.7229049973272287\n",
      "Confidence Interval (95%): (0.18789398010664565, 0.3203668894585718)\n",
      "              111         112         113         114         115         116  \\\n",
      "count  460.000000  460.000000  460.000000  460.000000  460.000000  460.000000   \n",
      "mean     1.213043    0.643478    0.300000    0.152174    0.095652    0.069565   \n",
      "std      1.155758    1.086188    0.747691    0.550990    0.427261    0.372748   \n",
      "min      0.000000    0.000000    0.000000    0.000000    0.000000    0.000000   \n",
      "25%      0.000000    0.000000    0.000000    0.000000    0.000000    0.000000   \n",
      "50%      1.000000    0.000000    0.000000    0.000000    0.000000    0.000000   \n",
      "75%      2.000000    1.000000    0.000000    0.000000    0.000000    0.000000   \n",
      "max      4.000000    7.000000    4.000000    4.000000    3.000000    3.000000   \n",
      "\n",
      "              117         118         119        1110  \n",
      "count  460.000000  460.000000  460.000000  460.000000  \n",
      "mean     0.039130    0.013043    0.008696    0.006522  \n",
      "std      0.307125    0.174157    0.147346    0.139876  \n",
      "min      0.000000    0.000000    0.000000    0.000000  \n",
      "25%      0.000000    0.000000    0.000000    0.000000  \n",
      "50%      0.000000    0.000000    0.000000    0.000000  \n",
      "75%      0.000000    0.000000    0.000000    0.000000  \n",
      "max      3.000000    3.000000    3.000000    3.000000  \n"
     ]
    }
   ],
   "source": [
    "# Descriptive statistics for level of support per article\n",
    "\n",
    "group_columns = ['111', '112', '113', '114', '115', '116', '117', '118', '119', '1110']\n",
    "\n",
    "group_mean = np.mean(df[group_columns].values)\n",
    "group_std = np.std(df[group_columns].values)\n",
    "\n",
    "confidence_level = 0.95\n",
    "degrees_of_freedom = len(df[group_columns]) - 1\n",
    "t_value = stats.t.ppf((1 + confidence_level) / 2, degrees_of_freedom)\n",
    "margin_of_error = t_value * (group_std / np.sqrt(len(df[group_columns])))\n",
    "confidence_interval = (group_mean - margin_of_error, group_mean + margin_of_error)\n",
    "\n",
    "print(\"Mean:\", group_mean)\n",
    "print(\"Standard Deviation:\", group_std)\n",
    "print(\"Confidence Interval ({}%):\".format(int(confidence_level * 100)), confidence_interval)\n",
    "\n",
    "group_statistics = df[group_columns].describe()\n",
    "\n",
    "print(group_statistics)"
   ]
  },
  {
   "cell_type": "code",
   "execution_count": 36,
   "id": "422e3b92-6648-4774-aa65-fde8d69c2f63",
   "metadata": {
    "tags": []
   },
   "outputs": [
    {
     "name": "stdout",
     "output_type": "stream",
     "text": [
      "Mean: 0.5202173913043479\n",
      "Standard Deviation: 1.314477891276253\n",
      "Confidence Interval (95%): (0.3997778375732457, 0.64065694503545)\n",
      "              141         142         143        144         145         146  \\\n",
      "count  460.000000  460.000000  460.000000  460.00000  460.000000  460.000000   \n",
      "mean     2.460870    1.226087    0.643478    0.35000    0.232609    0.165217   \n",
      "std      1.829494    1.781341    1.444342    1.11501    0.933649    0.796839   \n",
      "min      0.000000    0.000000    0.000000    0.00000    0.000000    0.000000   \n",
      "25%      0.000000    0.000000    0.000000    0.00000    0.000000    0.000000   \n",
      "50%      4.000000    0.000000    0.000000    0.00000    0.000000    0.000000   \n",
      "75%      4.000000    4.000000    0.000000    0.00000    0.000000    0.000000   \n",
      "max      4.000000    4.000000    4.000000    4.00000    4.000000    4.000000   \n",
      "\n",
      "              147         148         149        1410  \n",
      "count  460.000000  460.000000  460.000000  460.000000  \n",
      "mean     0.071739    0.026087    0.017391    0.008696  \n",
      "std      0.512656    0.322325    0.263465    0.186501  \n",
      "min      0.000000    0.000000    0.000000    0.000000  \n",
      "25%      0.000000    0.000000    0.000000    0.000000  \n",
      "50%      0.000000    0.000000    0.000000    0.000000  \n",
      "75%      0.000000    0.000000    0.000000    0.000000  \n",
      "max      4.000000    4.000000    4.000000    4.000000  \n"
     ]
    }
   ],
   "source": [
    "# Descriptive statistics for level of criticism per article\n",
    "\n",
    "group_columns = ['141', '142', '143', '144', '145', '146', '147', '148', '149', '1410']\n",
    "\n",
    "group_mean = np.mean(df[group_columns].values)\n",
    "group_std = np.std(df[group_columns].values)\n",
    "\n",
    "confidence_level = 0.95\n",
    "degrees_of_freedom = len(df[group_columns]) - 1\n",
    "t_value = stats.t.ppf((1 + confidence_level) / 2, degrees_of_freedom)\n",
    "margin_of_error = t_value * (group_std / np.sqrt(len(df[group_columns])))\n",
    "confidence_interval = (group_mean - margin_of_error, group_mean + margin_of_error)\n",
    "\n",
    "print(\"Mean:\", group_mean)\n",
    "print(\"Standard Deviation:\", group_std)\n",
    "print(\"Confidence Interval ({}%):\".format(int(confidence_level * 100)), confidence_interval)\n",
    "\n",
    "group_statistics = df[group_columns].describe()\n",
    "\n",
    "print(group_statistics)"
   ]
  },
  {
   "cell_type": "code",
   "execution_count": 37,
   "id": "35e3f362-0002-42c5-a2ef-f934c25874bd",
   "metadata": {},
   "outputs": [
    {
     "name": "stdout",
     "output_type": "stream",
     "text": [
      "   Outlet  Frequency  Percentage  Cumulative Percentage\n",
      "0       1        266   57.826087              57.826087\n",
      "1       2        194   42.173913             100.000000\n"
     ]
    }
   ],
   "source": [
    "# Calculating a cross-tab frequency table for frequency of scientist mentions per outlet \n",
    "\n",
    "outlet = df['Outlet'].value_counts().sort_index()\n",
    "percentage = outlet / len(df) * 100\n",
    "\n",
    "cumulative_percentage = percentage.cumsum()\n",
    "\n",
    "outlet_results = pd.DataFrame({\n",
    "    'Outlet': outlet.index,\n",
    "    'Frequency': outlet.values,\n",
    "    'Percentage': percentage.values,\n",
    "    'Cumulative Percentage': cumulative_percentage.values\n",
    "})\n",
    "\n",
    "outlet_results = outlet_results.sort_values('Outlet')\n",
    "\n",
    "print(outlet_results)"
   ]
  },
  {
   "cell_type": "code",
   "execution_count": 38,
   "id": "5b465e41-6e47-4092-8edd-6239fae4af7a",
   "metadata": {},
   "outputs": [
    {
     "name": "stdout",
     "output_type": "stream",
     "text": [
      "   Outlet  Frequency  Percentage  Cumulative Percentage\n",
      "0       1        127   27.608696              27.608696\n",
      "1       2        333   72.391304             100.000000\n"
     ]
    }
   ],
   "source": [
    "# Calculating a cross-tab frequency table for articles published before and after election  per outlet \n",
    "\n",
    "time = df['Before_AFter'].value_counts().sort_index()\n",
    "percentage = time / len(df) * 100\n",
    "\n",
    "cumulative_percentage = percentage.cumsum()\n",
    "\n",
    "time_results = pd.DataFrame({\n",
    "    'Outlet': time.index,\n",
    "    'Frequency': time.values,\n",
    "    'Percentage': percentage.values,\n",
    "    'Cumulative Percentage': cumulative_percentage.values\n",
    "})\n",
    "\n",
    "time_results = time_results.sort_values('Outlet')\n",
    "\n",
    "print(time_results)"
   ]
  },
  {
   "cell_type": "markdown",
   "id": "ae16c1f9-4781-4cd8-b153-899536dd60d9",
   "metadata": {
    "tags": []
   },
   "source": [
    "## Leaders "
   ]
  },
  {
   "cell_type": "markdown",
   "id": "d3149cac-d5d2-421c-99c2-72f1af725e77",
   "metadata": {
    "tags": []
   },
   "source": [
    "#### Identifying Leaders vs. Non-Leaders"
   ]
  },
  {
   "cell_type": "markdown",
   "id": "7f330eda-f044-47b8-a183-b381d2cd9f5f",
   "metadata": {},
   "source": [
    "The scientist names were displayed in 10 different columns ['sn#']. I created a new column for each of those 10 that  displayed a '1' if the individual was a leader, or a '0' if the individual was not a leader, based on hte individual having had positions of leadership, public recognition, and a high scientific reputation. Curricula vitae, biographical web pages and other resources were used to assess leadership positions and public recognition. Scientific reputation was measured as the cumulative performance and output of the individual, considered successful if they possessed an h-index score of 20 or above (Hirsch, 2005; Sarli, 2022), procured using the Web of Sciences database.\n",
    "\n",
    "This section has been heaily modified to protect the perosnal information of the scientists named in pandemic news coverage analyzed for the purposes of this study. Placeholders are frequently used. \n",
    "\n",
    "__Citations__\n",
    "\n",
    "Hirsch, J. E. (2005). An index to quantify an individual’s scientific research output. Proceedings of the National Academy of Sciences, 102(46), 16569–16572. https://doi.org/10.1073/pnas.0507655102\n",
    "\n",
    "Sarli, C. (n.d.). BeckerGuides: Quantifying the Impact of My Publications: What is the h index? Retrieved June 13, 2023, from https://beckerguides.wustl.edu/c.php?g=299569&p=2001203"
   ]
  },
  {
   "cell_type": "code",
   "execution_count": 39,
   "id": "5711f3b3-db4c-42ea-85bc-90aaaf52c616",
   "metadata": {
    "tags": []
   },
   "outputs": [],
   "source": [
    "# Scientists names were saved to a text file with their corresponding value pair, read by Python and mapped. The output \n",
    "# should show the key value pairs in the new dictionary value_mapping, but this output has been removed out of caution.\n",
    "\n",
    "with open('List.txt', 'r') as file:\n",
    "    lines = file.readlines()\n",
    "\n",
    "# empty dictionary to store the name-value pairs\n",
    "value_mapping = {}\n",
    "\n",
    "# Iterate over lines in the file\n",
    "for line in lines:\n",
    "    # Remove any leading or trailing spaces\n",
    "    line = line.strip()\n",
    "\n",
    "    # Split the line into name and value using the colon as the separator\n",
    "    name, value = line.split(':')\n",
    "\n",
    "    # Remove the double quotes around the name and strip any leading or trailing spaces\n",
    "    name = name.strip().strip('\"')\n",
    "    \n",
    "    # Remove the comma from the value and strip any leading or trailing spaces\n",
    "    value = value.strip().replace(',', '')\n",
    "\n",
    "    # Convert the value to an integer and strip any leading or trailing spaces\n",
    "    value = int(value)\n",
    "\n",
    "    # Add the name-value pair to the dictionary\n",
    "    value_mapping[name] = value\n",
    "\n",
    "# Print the dictionary\n",
    "print(value_mapping)"
   ]
  },
  {
   "cell_type": "code",
   "execution_count": 40,
   "id": "6ca1ed35-60b4-4a84-a29c-4a6bc987fae1",
   "metadata": {
    "tags": []
   },
   "outputs": [],
   "source": [
    "# A new, empty column was created that iterated over the rows of [s1] to create [Leader_1] based on key value pairs\n",
    "# defined in the previous code for the value_mapping dictionary. This was repeated 10 times.\n",
    "\n",
    "df['Leader_1'] = \"\"\n",
    "\n",
    "for i, value in enumerate(df['s1']):\n",
    "    if value in value_mapping:\n",
    "        df.at[i, 'Leader_1'] = str(value_mapping[value])\n",
    "    else:\n",
    "        df.at[i, 'Leader_1'] = \"99\"\n",
    "        \n",
    "df['Leader_1'] = df['Leader_1'].astype(int)"
   ]
  },
  {
   "cell_type": "code",
   "execution_count": 41,
   "id": "04266e4e-1f22-4527-a80d-69f7361b582a",
   "metadata": {
    "tags": []
   },
   "outputs": [],
   "source": [
    "#Repeating the above for each column\n",
    "\n",
    "df['Leader_2'] = \"\"\n",
    "\n",
    "for i, value in enumerate(df['s2']):\n",
    "    if value in value_mapping:\n",
    "        df.at[i, 'Leader_2'] = str(value_mapping[value])\n",
    "    else:\n",
    "        df.at[i, 'Leader_2'] = \"99\"\n",
    "        \n",
    "df['Leader_2'] = df['Leader_2'].astype(int)"
   ]
  },
  {
   "cell_type": "code",
   "execution_count": 42,
   "id": "4d9f0141-bd81-472e-9cc2-c04a98975d40",
   "metadata": {
    "tags": []
   },
   "outputs": [],
   "source": [
    "df['Leader_3'] = \"\"\n",
    "\n",
    "for i, value in enumerate(df['s3']):\n",
    "    if value in value_mapping:\n",
    "        df.at[i, 'Leader_3'] = str(value_mapping[value])\n",
    "    else:\n",
    "        df.at[i, 'Leader_3'] = \"99\"\n",
    "        \n",
    "df['Leader_3'] = df['Leader_3'].astype(int)"
   ]
  },
  {
   "cell_type": "code",
   "execution_count": 43,
   "id": "8b6a9dc7-c316-4a35-91ea-ee257cebe7cb",
   "metadata": {
    "tags": []
   },
   "outputs": [],
   "source": [
    "df['Leader_4'] = \"\"\n",
    "\n",
    "for i, value in enumerate(df['s4']):\n",
    "    if value in value_mapping:\n",
    "        df.at[i, 'Leader_4'] = str(value_mapping[value])\n",
    "    else:\n",
    "        df.at[i, 'Leader_4'] = \"99\"\n",
    "        \n",
    "df['Leader_4'] = df['Leader_4'].astype(int)"
   ]
  },
  {
   "cell_type": "code",
   "execution_count": 44,
   "id": "71496b13-6eaa-4b7d-b3d1-ca039e716b70",
   "metadata": {
    "tags": []
   },
   "outputs": [],
   "source": [
    "df['Leader_5'] = \"\"\n",
    "\n",
    "for i, value in enumerate(df['s5']):\n",
    "    if value in value_mapping:\n",
    "        df.at[i, 'Leader_5'] = str(value_mapping[value])\n",
    "    else:\n",
    "        df.at[i, 'Leader_5'] = \"99\"\n",
    "        \n",
    "df['Leader_5'] = df['Leader_5'].astype(int)"
   ]
  },
  {
   "cell_type": "code",
   "execution_count": 45,
   "id": "75cbbe99-2c15-46eb-b3dc-2041c15ff9e6",
   "metadata": {
    "tags": []
   },
   "outputs": [],
   "source": [
    "df['Leader_6'] = \"\"\n",
    "\n",
    "for i, value in enumerate(df['s6']):\n",
    "    if value in value_mapping:\n",
    "        df.at[i, 'Leader_6'] = str(value_mapping[value])\n",
    "    else:\n",
    "        df.at[i, 'Leader_6'] = \"99\"\n",
    "        \n",
    "df['Leader_6'] = df['Leader_6'].astype(int)"
   ]
  },
  {
   "cell_type": "code",
   "execution_count": 46,
   "id": "b70ad9c1-7849-4277-94f0-be11b6b1341d",
   "metadata": {
    "tags": []
   },
   "outputs": [],
   "source": [
    "df['Leader_7'] = \"\"\n",
    "\n",
    "for i, value in enumerate(df['s7']):\n",
    "    if value in value_mapping:\n",
    "        df.at[i, 'Leader_7'] = str(value_mapping[value])\n",
    "    else:\n",
    "        df.at[i, 'Leader_7'] = \"99\"\n",
    "        \n",
    "df['Leader_7'] = df['Leader_7'].astype(int)"
   ]
  },
  {
   "cell_type": "code",
   "execution_count": 47,
   "id": "cb314c08-c355-440e-bbec-2276ba0cb02f",
   "metadata": {
    "tags": []
   },
   "outputs": [],
   "source": [
    "df['Leader_8'] = \"\"\n",
    "\n",
    "for i, value in enumerate(df['s8']):\n",
    "    if value in value_mapping:\n",
    "        df.at[i, 'Leader_8'] = str(value_mapping[value])\n",
    "    else:\n",
    "        df.at[i, 'Leader_8'] = \"99\"\n",
    "        \n",
    "df['Leader_8'] = df['Leader_8'].astype(int)"
   ]
  },
  {
   "cell_type": "code",
   "execution_count": 48,
   "id": "ec514d12-be33-4cd7-bab4-e32b2f3d480d",
   "metadata": {
    "tags": []
   },
   "outputs": [],
   "source": [
    "df['Leader_9'] = \"\"\n",
    "\n",
    "for i, value in enumerate(df['s9']):\n",
    "    if value in value_mapping:\n",
    "        df.at[i, 'Leader_9'] = str(value_mapping[value])\n",
    "    else:\n",
    "        df.at[i, 'Leader_9'] = \"99\"\n",
    "        \n",
    "df['Leader_9'] = df['Leader_9'].astype(int)"
   ]
  },
  {
   "cell_type": "code",
   "execution_count": 49,
   "id": "14173bee-e516-4649-9b39-a9123be36bb3",
   "metadata": {
    "tags": []
   },
   "outputs": [],
   "source": [
    "df['Leader_10'] = \"\"\n",
    "\n",
    "for i, value in enumerate(df['s10']):\n",
    "    if value in value_mapping:\n",
    "        df.at[i, 'Leader_10'] = str(value_mapping[value])\n",
    "    else:\n",
    "        df.at[i, 'Leader_10'] = \"99\"\n",
    "        \n",
    "df['Leader_10'] = df['Leader_10'].astype(int)"
   ]
  },
  {
   "cell_type": "code",
   "execution_count": 50,
   "id": "dc691d59-9be3-422b-bcd0-c30342cc3d23",
   "metadata": {
    "tags": []
   },
   "outputs": [],
   "source": [
    "# Confirmed \n",
    "df"
   ]
  },
  {
   "cell_type": "markdown",
   "id": "8cfaadad-adbc-449d-9f28-8167fa9cdc35",
   "metadata": {
    "tags": []
   },
   "source": [
    "#### Step 2"
   ]
  },
  {
   "cell_type": "markdown",
   "id": "0b33d52f-dc10-45f3-8838-2ac3c1fd95cb",
   "metadata": {},
   "source": [
    "The previous steps created 10 new columns that show a '1' if a leader was present in the corresponding 's#' columnns, a '0' for a non-leader and a '99' for absence of any matching key-value pairs logged in value_mapping dictionary (e.g. articles that contained generalizations used for measuring de/centralized visibility, but not scientists). \n",
    "\n",
    "Drawing inspiration from Pedersen and Rahat (2021), personalized science in the media is defined as a situation, like the Covid-19 pandemic, in which media content focuses on the visibility of scientist leaders and scientific actors, versus their organizations, institutions and generalizations. Personalized science in the media was further distinguished into centralized and decentralized visibility. These terms describe when media coverage centers on political leaders or actors, respectively, versus their parties (Balmas et al., 2014; Pedersen & Rahat, 2021; Van Aelst et al., 2012). Conceptually redefined to personalized science, centralized visibility is the increased sourcing of scientific leaders, while decentralized visibility is the increased sourcing of non-leading scientific actors. These respective categories of individuals are then weighed against the presence of organizations, institutions and relevant generalizations in the article. Generalizations include colloquial terms such as ‘immunologists’ or ‘scientists’ that ascribe attribution to an abstract group. In summary, defining personalized science enables the assessment of the visibility of scientists in pandemic news coverage, but not for further interpretation of how the politicized and polarized nature of the U.S. media environment may have influenced types of visibility (e.g. leader or non-leader), or for deeper examination into how scientists were treated by partisan news coverage. To examine the mechanisms that give rise to such variation in visibility and treatment, insights are synthesized from various literature below.\n",
    "\n",
    "To test H1 and H4, and the visibility portion of the research question, new columns were created for each article that counted '1's and '0's in the new [Leader_#] columns to provide descriptive statistcs of the total count of leaders versus non-leaders per articles. New columns were also created that created an *if* statement reiterating through rows for the 'Freq. Scientist' mentions columns, and returning a corresponding value based on whether or not the columns contained a '1' or '0'. This way, total mentions per article for leaders versus non-leaders were summed into one column and used as the numerator in a calculated ratio score over generalizations in the article. \n",
    "\n",
    "__Citations__\n",
    "\n",
    "Balmas, M., Rahat, G., Sheafer, T., & Shenhav, S. R. (2014). Two routes to personalized politics: Centralized and decentralized personalization. Party Politics, 20(1), 37–51. https://doi.org/10.1177/1354068811436037\n",
    "\n",
    "Pedersen, H. H., & Rahat, G. (2021). Political personalization and personalized politics within and beyond the behavioural arena. Party Politics, 27(2), 211–219. https://doi.org/10.1177/1354068819855712\n",
    "\n",
    "Van Aelst, P., Sheafer, T., & Stanyer, J. (2012). The personalization of mediated political communication: A review of concepts, operationalizations and key findings. Journalism, 13(2), 203–220. https://doi.org/10.1177/1464884911427802"
   ]
  },
  {
   "cell_type": "code",
   "execution_count": 51,
   "id": "7c0cf8b0-8952-4510-8226-2d8fcdef9c5d",
   "metadata": {
    "tags": []
   },
   "outputs": [],
   "source": [
    "# Creating new columns that will provide the total count per article of leaders\n",
    "\n",
    "df['Leaders'] = df[['Leader_1', 'Leader_2', 'Leader_3', 'Leader_4', 'Leader_5', 'Leader_6', 'Leader_7', 'Leader_8', 'Leader_9', 'Leader_10']].apply(lambda row: row.tolist().count(1), axis=1)"
   ]
  },
  {
   "cell_type": "code",
   "execution_count": 52,
   "id": "92eee707-a098-418a-b0d3-879348771a3a",
   "metadata": {
    "tags": []
   },
   "outputs": [],
   "source": [
    "# Creating new columns that will provide the total count per article of non-leaders\n",
    "\n",
    "df['Non-Leaders'] = df[['Leader_1', 'Leader_2', 'Leader_3', 'Leader_4', 'Leader_5', 'Leader_6', 'Leader_7', 'Leader_8', 'Leader_9', 'Leader_10']].apply(lambda row: row.tolist().count(0), axis=1)\n",
    "\n",
    "\n",
    "\n"
   ]
  },
  {
   "cell_type": "code",
   "execution_count": 53,
   "id": "98ef445b-492e-46d4-a5cd-e998582ee7a6",
   "metadata": {
    "tags": []
   },
   "outputs": [],
   "source": [
    "#Confirmed \n",
    "\n",
    "df"
   ]
  },
  {
   "cell_type": "code",
   "execution_count": 54,
   "id": "3b5f0c5d-ce10-46b6-950d-465bfee41952",
   "metadata": {
    "tags": []
   },
   "outputs": [
    {
     "name": "stdout",
     "output_type": "stream",
     "text": [
      "Mean: 0.7\n",
      "Standard Deviation: 1.017883567271689\n",
      "Confidence Interval (95%): (0.6067360178470586, 0.7932639821529414)\n"
     ]
    }
   ],
   "source": [
    "# Descriptive statistics for frequency of leader scientists per article\n",
    "\n",
    "column_name = 'Leaders'\n",
    "\n",
    "column_values = df[column_name].values\n",
    "\n",
    "mean = np.mean(column_values)\n",
    "std = np.std(column_values)\n",
    "\n",
    "confidence_level = 0.95\n",
    "degrees_of_freedom = len(column_values) - 1\n",
    "t_value = stats.t.ppf((1 + confidence_level) / 2, degrees_of_freedom)\n",
    "margin_of_error = t_value * (std / np.sqrt(len(column_values)))\n",
    "confidence_interval = (mean - margin_of_error, mean + margin_of_error)\n",
    "\n",
    "print(\"Mean:\", mean)\n",
    "print(\"Standard Deviation:\", std)\n",
    "print(\"Confidence Interval ({}%):\".format(int(confidence_level * 100)), confidence_interval)"
   ]
  },
  {
   "cell_type": "code",
   "execution_count": 55,
   "id": "b566c76e-509f-48c9-8a58-e24cdca717c6",
   "metadata": {
    "tags": []
   },
   "outputs": [
    {
     "name": "stdout",
     "output_type": "stream",
     "text": [
      "Mean: 0.6760869565217391\n",
      "Standard Deviation: 1.0180298070738092\n",
      "Confidence Interval (95%): (0.5828095750894169, 0.7693643379540613)\n"
     ]
    }
   ],
   "source": [
    "# Descriptive statistics for frequency of non-leader scientists per article\n",
    "\n",
    "column_name = 'Non-Leaders'\n",
    "\n",
    "column_values = df[column_name].values\n",
    "\n",
    "mean = np.mean(column_values)\n",
    "std = np.std(column_values)\n",
    "\n",
    "confidence_level = 0.95\n",
    "degrees_of_freedom = len(column_values) - 1\n",
    "t_value = stats.t.ppf((1 + confidence_level) / 2, degrees_of_freedom)\n",
    "margin_of_error = t_value * (std / np.sqrt(len(column_values)))\n",
    "confidence_interval = (mean - margin_of_error, mean + margin_of_error)\n",
    "\n",
    "print(\"Mean:\", mean)\n",
    "print(\"Standard Deviation:\", std)\n",
    "print(\"Confidence Interval ({}%):\".format(int(confidence_level * 100)), confidence_interval)"
   ]
  },
  {
   "cell_type": "code",
   "execution_count": 56,
   "id": "aaa7895d-ef5e-47b8-a159-b6637ca9cb78",
   "metadata": {
    "tags": []
   },
   "outputs": [],
   "source": [
    "# Creating 'CentralizedV' : a column that sums the frequncy of mentions based on the condition that 'Leader_#' contains a '1'\n",
    "\n",
    "df['CentralizedV'] = df.apply(lambda row: sum([row['sn1'] if row['Leader_1'] == 1 else 0,\n",
    "                                               row['sn2'] if row['Leader_2'] == 1 else 0,\n",
    "                                               row['sn3'] if row['Leader_3'] == 1 else 0,\n",
    "                                               row['sn4'] if row['Leader_4'] == 1 else 0,\n",
    "                                               row['sn5'] if row['Leader_5'] == 1 else 0,\n",
    "                                               row['sn6'] if row['Leader_6'] == 1 else 0,\n",
    "                                               row['sn7'] if row['Leader_7'] == 1 else 0,\n",
    "                                               row['sn8'] if row['Leader_8'] == 1 else 0,\n",
    "                                               row['sn9'] if row['Leader_9'] == 1 else 0,\n",
    "                                               row['sn10'] if row['Leader_10'] == 1 else 0]), axis=1)"
   ]
  },
  {
   "cell_type": "code",
   "execution_count": 57,
   "id": "0dd78822-c61e-4ab2-a6f0-72cd7c2d9408",
   "metadata": {
    "tags": []
   },
   "outputs": [],
   "source": [
    "# Creating 'DecentralizedV' : a column that sums the frequncy of mentions based on the condition that 'Leader_#' contains a '0'\n",
    "\n",
    "df['DecentralizedV'] = df.apply(lambda row: sum([row['sn1'] if row['Leader_1'] == 0 else 0,\n",
    "                                               row['sn2'] if row['Leader_2'] == 0 else 0,\n",
    "                                               row['sn3'] if row['Leader_3'] == 0 else 0,\n",
    "                                               row['sn4'] if row['Leader_4'] == 0 else 0,\n",
    "                                               row['sn5'] if row['Leader_5'] == 0 else 0,\n",
    "                                               row['sn6'] if row['Leader_6'] == 0 else 0,\n",
    "                                               row['sn7'] if row['Leader_7'] == 0 else 0,\n",
    "                                               row['sn8'] if row['Leader_8'] == 0 else 0,\n",
    "                                               row['sn9'] if row['Leader_9'] == 0 else 0,\n",
    "                                               row['sn10'] if row['Leader_10'] == 0 else 0]), axis=1)"
   ]
  },
  {
   "cell_type": "code",
   "execution_count": 58,
   "id": "1553434a-2ead-408f-bc78-e7b9d42b8abc",
   "metadata": {
    "tags": []
   },
   "outputs": [],
   "source": [
    "# Calculating the ratio score for CV per article with visibility as the numerator, meaning personalization occurs if x > 1 \n",
    "\n",
    "df['CV Score'] = df['CentralizedV'] / df['Generalizations']\n",
    "\n",
    "# However, there are cases where generalizations = 0 resulting in 'nan' or 'inf' values that do not account for the presence of scientists \n",
    "# in those articles. Filling with '0' or removing those articles from analysis would be a detriment to the analysis of visibility in the pandemic\n",
    "# overall. Filling with '1' will inflate articles with equal mentions, but as some articles also contain '1' scientist mention, but '0' generalizations,\n",
    "# it is more accurate than providing a higher value.\n",
    "\n",
    "df['CV Score'] = df['CV Score'].fillna(value=1)\n",
    "\n",
    "df['CV Score'] = df['CV Score'].replace([np.inf, -np.inf], value=1)"
   ]
  },
  {
   "cell_type": "code",
   "execution_count": 59,
   "id": "e7a7f9dc-0a05-4a68-85ff-69f8d0b11e82",
   "metadata": {
    "tags": []
   },
   "outputs": [],
   "source": [
    "# Calculating the ratio score for DV per article with visibility as the numerator, meaning personalization occurs if x > 1 \n",
    "\n",
    "df['DV Score'] = df['DecentralizedV'] / df['Generalizations']\n",
    "\n",
    "df['DV Score'] = df['DV Score'].fillna(value=1)\n",
    "\n",
    "df['DV Score'] = df['DV Score'].replace([np.inf, -np.inf], value=1)"
   ]
  },
  {
   "cell_type": "code",
   "execution_count": 60,
   "id": "0e356b23-bd08-46dd-bae4-0e81e5fa8eb7",
   "metadata": {
    "tags": []
   },
   "outputs": [],
   "source": [
    "# Calculating the ratio score for total visibility per article with visibility as the numerator,  meaning  personalization occurs if x > 1 \n",
    "\n",
    "# Listing the column names to sum\n",
    "columns_to_sum = ['sn1', 'sn2', 'sn3', 'sn4', 'sn5', 'sn6', 'sn7', 'sn8', 'sn9', 'sn10']\n",
    "\n",
    "# Create a new column 'Total' that sums the values in the specified columns\n",
    "df['Total Vis'] = df[columns_to_sum].sum(axis=1)"
   ]
  },
  {
   "cell_type": "code",
   "execution_count": 61,
   "id": "36f2eb61-3e6e-4223-9c24-c6b6ee266000",
   "metadata": {
    "tags": []
   },
   "outputs": [],
   "source": [
    "# Ratio\n",
    "\n",
    "df['Vis Score'] = df['Total Vis'] / df['Generalizations']\n",
    "\n",
    "df['Vis Score'] = df['Vis Score'].fillna(value=1)\n",
    "\n",
    "df['Vis Score'] = df['Vis Score'].replace([np.inf, -np.inf], value=1)"
   ]
  },
  {
   "cell_type": "code",
   "execution_count": 62,
   "id": "8a61b29b-39b7-4538-8295-c4b61187c095",
   "metadata": {
    "tags": []
   },
   "outputs": [],
   "source": [
    "# Confirmed \n",
    "\n",
    "df"
   ]
  },
  {
   "cell_type": "code",
   "execution_count": 63,
   "id": "ea032665-a017-413a-9d66-4b6f6ff00ab9",
   "metadata": {
    "tags": []
   },
   "outputs": [
    {
     "data": {
      "text/plain": [
       "count    460.000000\n",
       "mean       0.577741\n",
       "std        1.384431\n",
       "min        0.000000\n",
       "25%        0.000000\n",
       "50%        0.000000\n",
       "75%        0.666667\n",
       "max       14.000000\n",
       "Name: CV Score, dtype: float64"
      ]
     },
     "execution_count": 63,
     "metadata": {},
     "output_type": "execute_result"
    }
   ],
   "source": [
    "# Descriptive statistics for CV \n",
    "\n",
    "df['CV Score'].describe()"
   ]
  },
  {
   "cell_type": "code",
   "execution_count": 64,
   "id": "82fddbc4-43db-449c-b894-255fdd5c14fa",
   "metadata": {
    "tags": []
   },
   "outputs": [],
   "source": [
    "confidence_interval = stats.t.interval(0.95, len(df['CV Score']) - 1, loc=np.mean(df['CV Score']), scale=stats.sem(df['CV Score']))"
   ]
  },
  {
   "cell_type": "code",
   "execution_count": 65,
   "id": "e24ee240-4295-4fbb-86b0-c7715b5164f6",
   "metadata": {
    "tags": []
   },
   "outputs": [
    {
     "name": "stdout",
     "output_type": "stream",
     "text": [
      "95% Confidence Interval: (0.45089233794106254, 0.7045904807052707)\n"
     ]
    }
   ],
   "source": [
    "print(\"95% Confidence Interval:\", confidence_interval)"
   ]
  },
  {
   "cell_type": "code",
   "execution_count": 66,
   "id": "0f12b629-0eb7-48d6-b163-6f7eb5d41e44",
   "metadata": {
    "tags": []
   },
   "outputs": [
    {
     "data": {
      "text/plain": [
       "count    460.000000\n",
       "mean       0.473240\n",
       "std        1.138603\n",
       "min        0.000000\n",
       "25%        0.000000\n",
       "50%        0.000000\n",
       "75%        0.600000\n",
       "max       13.000000\n",
       "Name: DV Score, dtype: float64"
      ]
     },
     "execution_count": 66,
     "metadata": {},
     "output_type": "execute_result"
    }
   ],
   "source": [
    "# Descriptive statistics for DV \n",
    "\n",
    "df['DV Score'].describe()"
   ]
  },
  {
   "cell_type": "code",
   "execution_count": 67,
   "id": "c225eba1-9ab1-4e43-aa8c-6acc438104c8",
   "metadata": {
    "tags": []
   },
   "outputs": [
    {
     "name": "stdout",
     "output_type": "stream",
     "text": [
      "95% Confidence Interval: (0.3689145474040636, 0.5775644630262862)\n"
     ]
    }
   ],
   "source": [
    "confidence_interval = stats.t.interval(0.95, len(df['DV Score']) - 1, loc=np.mean(df['DV Score']), scale=stats.sem(df['DV Score']))\n",
    "print(\"95% Confidence Interval:\", confidence_interval)"
   ]
  },
  {
   "cell_type": "markdown",
   "id": "074229d2-c41a-430d-85b3-0bd28e8de613",
   "metadata": {
    "tags": []
   },
   "source": [
    "## Visibility Hypotheses: H1 and H4"
   ]
  },
  {
   "cell_type": "markdown",
   "id": "84c45bcc-560c-404b-be8d-5fc2fe1ce06f",
   "metadata": {
    "tags": []
   },
   "source": [
    "### Descriptives"
   ]
  },
  {
   "cell_type": "code",
   "execution_count": 68,
   "id": "2fae2e83-a391-4661-ad76-0d773b833137",
   "metadata": {
    "tags": []
   },
   "outputs": [
    {
     "name": "stdout",
     "output_type": "stream",
     "text": [
      "     CV Score  Frequency  Cumulative Percent\n",
      "0    0.000000        247           53.695652\n",
      "30   0.066667          2           54.130435\n",
      "21   0.083333          3           54.782609\n",
      "19   0.090909          3           55.434783\n",
      "48   0.100000          1           55.652174\n",
      "6    0.111111          8           57.391304\n",
      "57   0.117647          1           57.608696\n",
      "20   0.125000          3           58.260870\n",
      "8    0.142857          8           60.000000\n",
      "11   0.166667          4           60.869565\n",
      "7    0.200000          8           62.608696\n",
      "52   0.214286          1           62.826087\n",
      "14   0.222222          4           63.695652\n",
      "45   0.235294          1           63.913043\n",
      "4    0.250000          8           65.652174\n",
      "65   0.263158          1           65.869565\n",
      "61   0.272727          1           66.086957\n",
      "31   0.285714          2           66.521739\n",
      "23   0.300000          3           67.173913\n",
      "32   0.307692          2           67.608696\n",
      "12   0.333333          4           68.478261\n",
      "34   0.363636          2           68.913043\n",
      "53   0.375000          1           69.130435\n",
      "15   0.400000          4           70.000000\n",
      "51   0.428571          1           70.217391\n",
      "54   0.440000          1           70.434783\n",
      "3    0.500000          8           72.173913\n",
      "39   0.545455          1           72.391304\n",
      "16   0.571429          3           73.043478\n",
      "17   0.600000          3           73.695652\n",
      "25   0.625000          2           74.130435\n",
      "36   0.642857          2           74.565217\n",
      "5    0.666667          8           76.304348\n",
      "56   0.687500          1           76.521739\n",
      "68   0.714286          1           76.739130\n",
      "60   0.750000          1           76.956522\n",
      "46   0.785714          1           77.173913\n",
      "27   0.800000          2           77.608696\n",
      "64   0.833333          1           77.826087\n",
      "35   0.875000          2           78.260870\n",
      "67   0.892857          1           78.478261\n",
      "28   0.900000          2           78.913043\n",
      "1    1.000000         37           86.956522\n",
      "37   1.166667          2           87.391304\n",
      "26   1.250000          2           87.826087\n",
      "47   1.307692          1           88.043478\n",
      "9    1.333333          7           89.565217\n",
      "18   1.400000          3           90.217391\n",
      "59   1.428571          1           90.434783\n",
      "24   1.500000          2           90.869565\n",
      "41   1.666667          1           91.086957\n",
      "55   1.714286          1           91.304348\n",
      "22   1.750000          3           91.956522\n",
      "58   1.800000          1           92.173913\n",
      "2    2.000000         10           94.347826\n",
      "66   2.250000          1           94.565217\n",
      "38   2.500000          1           94.782609\n",
      "10   3.000000          6           96.086957\n",
      "69   3.222222          1           96.304348\n",
      "42   3.333333          1           96.521739\n",
      "70   3.500000          1           96.739130\n",
      "40   3.666667          1           96.956522\n",
      "13   4.000000          4           97.826087\n",
      "63   5.000000          1           98.043478\n",
      "49   5.600000          1           98.260870\n",
      "33   6.000000          2           98.695652\n",
      "29   7.000000          2           99.130435\n",
      "62   8.000000          1           99.347826\n",
      "43  10.000000          1           99.565217\n",
      "50  11.000000          1           99.782609\n",
      "44  14.000000          1          100.000000\n"
     ]
    }
   ],
   "source": [
    "# Calculating cumulative frequency table for CV \n",
    "\n",
    "frequency_table = df['CV Score'].value_counts().reset_index()\n",
    "frequency_table.columns = ['CV Score', 'Frequency']\n",
    "frequency_table = frequency_table.sort_values('CV Score')\n",
    "\n",
    "frequency_table['Cumulative Percent'] = frequency_table['Frequency'].cumsum() / frequency_table['Frequency'].sum() * 100\n",
    "\n",
    "print(frequency_table)"
   ]
  },
  {
   "cell_type": "code",
   "execution_count": 69,
   "id": "4bf3a418-932e-4c5d-8d9c-d59a1715eac1",
   "metadata": {
    "tags": []
   },
   "outputs": [
    {
     "name": "stdout",
     "output_type": "stream",
     "text": [
      "     DV Score  Frequency  Cumulative Percent\n",
      "0    0.000000        264           57.391304\n",
      "62   0.045455          1           57.608696\n",
      "54   0.066667          1           57.826087\n",
      "25   0.071429          2           58.260870\n",
      "51   0.076923          1           58.478261\n",
      "26   0.090909          2           58.913043\n",
      "63   0.100000          1           59.130435\n",
      "39   0.105263          1           59.347826\n",
      "30   0.111111          1           59.565217\n",
      "60   0.117647          1           59.782609\n",
      "11   0.125000          4           60.652174\n",
      "61   0.133333          1           60.869565\n",
      "16   0.142857          3           61.521739\n",
      "48   0.160000          1           61.739130\n",
      "15   0.166667          3           62.391304\n",
      "33   0.187500          1           62.608696\n",
      "6    0.200000          7           64.130435\n",
      "69   0.222222          1           64.347826\n",
      "7    0.250000          7           65.869565\n",
      "22   0.272727          2           66.304348\n",
      "17   0.285714          3           66.956522\n",
      "34   0.300000          1           67.173913\n",
      "2    0.333333         12           69.782609\n",
      "49   0.350000          1           70.000000\n",
      "20   0.357143          2           70.434783\n",
      "28   0.400000          1           70.652174\n",
      "18   0.428571          3           71.304348\n",
      "35   0.437500          1           71.521739\n",
      "44   0.444444          1           71.739130\n",
      "32   0.466667          1           71.956522\n",
      "4    0.500000          9           73.913043\n",
      "41   0.545455          1           74.130435\n",
      "21   0.571429          2           74.565217\n",
      "9    0.600000          4           75.434783\n",
      "66   0.636364          1           75.652174\n",
      "3    0.666667         10           77.826087\n",
      "10   0.714286          4           78.695652\n",
      "14   0.750000          3           79.347826\n",
      "27   0.777778          2           79.782609\n",
      "19   0.833333          2           80.217391\n",
      "29   0.857143          1           80.434783\n",
      "50   0.875000          1           80.652174\n",
      "67   0.888889          1           80.869565\n",
      "72   0.916667          1           81.086957\n",
      "1    1.000000         37           89.130435\n",
      "52   1.100000          1           89.347826\n",
      "37   1.142857          1           89.565217\n",
      "73   1.200000          1           89.782609\n",
      "36   1.222222          1           90.000000\n",
      "12   1.250000          4           90.869565\n",
      "8    1.333333          6           92.173913\n",
      "65   1.375000          1           92.391304\n",
      "70   1.428571          1           92.608696\n",
      "13   1.500000          4           93.478261\n",
      "64   1.571429          1           93.695652\n",
      "42   1.666667          1           93.913043\n",
      "68   1.800000          1           94.130435\n",
      "5    2.000000          7           95.652174\n",
      "57   2.200000          1           95.869565\n",
      "46   2.250000          1           96.086957\n",
      "31   2.400000          1           96.304348\n",
      "24   2.500000          2           96.739130\n",
      "58   2.600000          1           96.956522\n",
      "47   2.666667          1           97.173913\n",
      "74   2.800000          1           97.391304\n",
      "40   3.200000          1           97.608696\n",
      "75   3.500000          1           97.826087\n",
      "53   4.000000          1           98.043478\n",
      "43   4.500000          1           98.260870\n",
      "55   4.777778          1           98.478261\n",
      "23   5.000000          2           98.913043\n",
      "38   5.500000          1           99.130435\n",
      "59   6.000000          1           99.347826\n",
      "56   7.000000          1           99.565217\n",
      "45  10.000000          1           99.782609\n",
      "71  13.000000          1          100.000000\n"
     ]
    }
   ],
   "source": [
    "# Calculating cumulative frequency table for DV \n",
    "\n",
    "frequency_table = df['DV Score'].value_counts().reset_index()\n",
    "frequency_table.columns = ['DV Score', 'Frequency']\n",
    "frequency_table = frequency_table.sort_values('DV Score')\n",
    "\n",
    "frequency_table['Cumulative Percent'] = frequency_table['Frequency'].cumsum() / frequency_table['Frequency'].sum() * 100\n",
    "\n",
    "print(frequency_table)"
   ]
  },
  {
   "cell_type": "code",
   "execution_count": 70,
   "id": "03b5a7d1-c2a1-4824-8015-26c65d4d3d13",
   "metadata": {
    "tags": []
   },
   "outputs": [
    {
     "name": "stdout",
     "output_type": "stream",
     "text": [
      "    Vis Score  Frequency  Cumulative Percent\n",
      "0    0.000000        158           34.347826\n",
      "52   0.066667          1           34.565217\n",
      "23   0.083333          3           35.217391\n",
      "71   0.090909          1           35.434783\n",
      "64   0.105263          1           35.652174\n",
      "14   0.111111          5           36.739130\n",
      "74   0.125000          1           36.956522\n",
      "48   0.133333          1           37.173913\n",
      "79   0.136364          1           37.391304\n",
      "15   0.142857          5           38.478261\n",
      "13   0.166667          5           39.565217\n",
      "9    0.200000          9           41.521739\n",
      "49   0.222222          1           41.739130\n",
      "83   0.235294          1           41.956522\n",
      "6    0.250000         11           44.347826\n",
      "82   0.263158          1           44.565217\n",
      "75   0.272727          1           44.782609\n",
      "21   0.285714          3           45.434783\n",
      "66   0.294118          1           45.652174\n",
      "91   0.300000          1           45.869565\n",
      "72   0.307692          1           46.086957\n",
      "7    0.333333         10           48.260870\n",
      "45   0.363636          2           48.695652\n",
      "90   0.384615          1           48.913043\n",
      "11   0.400000          7           50.434783\n",
      "19   0.428571          4           51.304348\n",
      "33   0.444444          2           51.739130\n",
      "67   0.466667          1           51.956522\n",
      "3    0.500000         13           54.782609\n",
      "30   0.555556          2           55.217391\n",
      "40   0.571429          2           55.652174\n",
      "17   0.600000          4           56.521739\n",
      "60   0.625000          1           56.739130\n",
      "86   0.636364          1           56.956522\n",
      "78   0.650000          1           57.173913\n",
      "12   0.666667          7           58.695652\n",
      "43   0.714286          2           59.130435\n",
      "37   0.750000          2           59.565217\n",
      "44   0.777778          2           60.000000\n",
      "56   0.800000          1           60.217391\n",
      "50   0.812500          1           60.434783\n",
      "69   0.833333          1           60.652174\n",
      "25   0.857143          3           61.304348\n",
      "41   0.875000          2           61.739130\n",
      "81   0.888889          1           61.956522\n",
      "80   0.892857          1           62.173913\n",
      "89   0.900000          1           62.391304\n",
      "58   0.909091          1           62.608696\n",
      "1    1.000000         49           73.260870\n",
      "35   1.142857          2           73.695652\n",
      "85   1.166667          1           73.913043\n",
      "73   1.200000          1           74.130435\n",
      "26   1.250000          3           74.782609\n",
      "32   1.285714          2           75.217391\n",
      "47   1.307692          1           75.434783\n",
      "4    1.333333         13           78.260870\n",
      "27   1.375000          3           78.913043\n",
      "20   1.400000          3           79.565217\n",
      "70   1.428571          1           79.782609\n",
      "5    1.500000         12           82.391304\n",
      "68   1.571429          1           82.608696\n",
      "65   1.600000          1           82.826087\n",
      "34   1.666667          2           83.260870\n",
      "39   1.714286          2           83.695652\n",
      "16   1.750000          4           84.565217\n",
      "38   1.800000          2           85.000000\n",
      "61   1.857143          1           85.217391\n",
      "2    2.000000         16           88.695652\n",
      "87   2.200000          1           88.913043\n",
      "28   2.250000          3           89.565217\n",
      "51   2.333333          1           89.782609\n",
      "29   2.500000          3           90.434783\n",
      "22   2.666667          3           91.086957\n",
      "88   2.800000          1           91.304348\n",
      "10   3.000000          7           92.826087\n",
      "54   3.200000          1           93.043478\n",
      "62   3.500000          1           93.260870\n",
      "63   3.666667          1           93.478261\n",
      "8    4.000000          9           95.434783\n",
      "59   4.333333          1           95.652174\n",
      "46   4.500000          1           95.869565\n",
      "31   5.000000          2           96.304348\n",
      "53   5.500000          1           96.521739\n",
      "57   5.600000          1           96.739130\n",
      "24   6.000000          3           97.391304\n",
      "76   6.100000          1           97.608696\n",
      "18   7.000000          4           98.478261\n",
      "42   8.000000          2           98.913043\n",
      "36  10.000000          2           99.347826\n",
      "55  11.000000          1           99.565217\n",
      "84  13.000000          1           99.782609\n",
      "77  14.000000          1          100.000000\n"
     ]
    }
   ],
   "source": [
    "# Calculating cumulative frequency table for Total Visibility  \n",
    "\n",
    "frequency_table = df['Vis Score'].value_counts().reset_index()\n",
    "frequency_table.columns = ['Vis Score', 'Frequency']\n",
    "frequency_table = frequency_table.sort_values('Vis Score')\n",
    "\n",
    "frequency_table['Cumulative Percent'] = frequency_table['Frequency'].cumsum() / frequency_table['Frequency'].sum() * 100\n",
    "\n",
    "print(frequency_table)"
   ]
  },
  {
   "cell_type": "markdown",
   "id": "a4a073c8-f114-4fc4-b65a-964bbaa2c43e",
   "metadata": {
    "tags": []
   },
   "source": [
    "### H1A: Conservative coverage will have higher centralized visibiity of scientists compared to liberal coverage."
   ]
  },
  {
   "cell_type": "code",
   "execution_count": 71,
   "id": "38b32d14-d99d-4b31-87eb-d13566679fd7",
   "metadata": {
    "tags": []
   },
   "outputs": [],
   "source": [
    "# Converting to integer data \n",
    "\n",
    "df['CV Score'] = pd.to_numeric(df['CV Score'], errors='coerce')\n",
    "df['DV Score'] = pd.to_numeric(df['DV Score'], errors='coerce')\n",
    "df['Vis Score'] = pd.to_numeric(df['Vis Score'], errors='coerce')"
   ]
  },
  {
   "cell_type": "code",
   "execution_count": 72,
   "id": "069f931a-1e77-4ff7-9b68-4737b965b450",
   "metadata": {
    "tags": []
   },
   "outputs": [],
   "source": [
    "# Creating new dataframe for test = CNN articles\n",
    "\n",
    "CNN = df[df['Outlet'] == 1]"
   ]
  },
  {
   "cell_type": "code",
   "execution_count": 73,
   "id": "c6123c4f-3345-4f4c-abff-d3b7756d3e54",
   "metadata": {
    "tags": []
   },
   "outputs": [
    {
     "data": {
      "text/plain": [
       "1    266\n",
       "Name: Outlet, dtype: int64"
      ]
     },
     "execution_count": 73,
     "metadata": {},
     "output_type": "execute_result"
    }
   ],
   "source": [
    "CNN ['Outlet'].value_counts()"
   ]
  },
  {
   "cell_type": "code",
   "execution_count": 74,
   "id": "6931fe67-c9a1-41af-bbbf-e41f749443d9",
   "metadata": {
    "tags": []
   },
   "outputs": [
    {
     "name": "stdout",
     "output_type": "stream",
     "text": [
      "Mean: 0.60\n",
      "Standard Deviation: 1.34\n"
     ]
    }
   ],
   "source": [
    "# Descriptives for CNN CV \n",
    "\n",
    "mean_value = CNN['CV Score'].mean()\n",
    "std_value = CNN['CV Score'].std()\n",
    "\n",
    "print(\"Mean: {:.2f}\".format(mean_value))\n",
    "print(\"Standard Deviation: {:.2f}\".format(std_value))"
   ]
  },
  {
   "cell_type": "code",
   "execution_count": 75,
   "id": "ae444a57-0085-40a7-9b7a-9ee25c5d7190",
   "metadata": {
    "tags": []
   },
   "outputs": [],
   "source": [
    "# Creating new dataframe for test = Fox News articles\n",
    "\n",
    "FOX = df[df['Outlet'] == 2]"
   ]
  },
  {
   "cell_type": "code",
   "execution_count": 76,
   "id": "fe5cf917-e537-4d8f-8661-9b1133270559",
   "metadata": {
    "tags": []
   },
   "outputs": [
    {
     "data": {
      "text/plain": [
       "2    194\n",
       "Name: Outlet, dtype: int64"
      ]
     },
     "execution_count": 76,
     "metadata": {},
     "output_type": "execute_result"
    }
   ],
   "source": [
    "FOX['Outlet'].value_counts()"
   ]
  },
  {
   "cell_type": "code",
   "execution_count": 77,
   "id": "e75287f1-e714-4899-9467-f04c0ffc3120",
   "metadata": {
    "tags": []
   },
   "outputs": [
    {
     "name": "stdout",
     "output_type": "stream",
     "text": [
      "Mean: 0.55\n",
      "Standard Deviation: 1.45\n"
     ]
    }
   ],
   "source": [
    "# Descriptives for Fox CV \n",
    "\n",
    "mean_value = FOX['CV Score'].mean()\n",
    "std_value = FOX['CV Score'].std()\n",
    "\n",
    "print(\"Mean: {:.2f}\".format(mean_value))\n",
    "print(\"Standard Deviation: {:.2f}\".format(std_value))"
   ]
  },
  {
   "cell_type": "code",
   "execution_count": 78,
   "id": "816c3dde-d61b-4b88-b186-ef24470ede2f",
   "metadata": {
    "tags": []
   },
   "outputs": [
    {
     "name": "stdout",
     "output_type": "stream",
     "text": [
      "t-statistic: 0.358990\n",
      "p-value: 0.719768\n",
      "Degrees of Freedom: 458\n"
     ]
    }
   ],
   "source": [
    "#Running a t-test between the CV Score and Outlet\n",
    "\n",
    "group1_data = CNN['CV Score']\n",
    "group2_data = FOX['CV Score']\n",
    "\n",
    "t_statistic, p_value = stats.ttest_ind(group1_data, group2_data, nan_policy='omit')\n",
    "\n",
    "n1 = len(group1_data)\n",
    "n2 = len(group2_data)\n",
    "degrees = n1 + n2 - 2\n",
    "\n",
    "print(\"t-statistic: {:.6f}\".format(t_statistic))\n",
    "print(\"p-value: {:.6f}\".format(p_value))\n",
    "print(\"Degrees of Freedom:\", degrees)"
   ]
  },
  {
   "cell_type": "markdown",
   "id": "0692ea63-fbda-4cd7-b964-af5f07e49ea1",
   "metadata": {
    "tags": []
   },
   "source": [
    "### H1b:  Liberal coverage will have higher decentralized visibility of scientists compared to conservative coverage.\n"
   ]
  },
  {
   "cell_type": "code",
   "execution_count": 79,
   "id": "f9996df5-f592-424d-bf05-50beac838482",
   "metadata": {},
   "outputs": [
    {
     "name": "stdout",
     "output_type": "stream",
     "text": [
      "Mean: 0.55\n",
      "Standard Deviation: 1.22\n"
     ]
    }
   ],
   "source": [
    "# Descriptives for CNN DV \n",
    "\n",
    "mean_value = CNN['DV Score'].mean()\n",
    "std_value = CNN['DV Score'].std()\n",
    "\n",
    "print(\"Mean: {:.2f}\".format(mean_value))\n",
    "print(\"Standard Deviation: {:.2f}\".format(std_value))"
   ]
  },
  {
   "cell_type": "code",
   "execution_count": 80,
   "id": "3d42db24-9abc-4a3a-a2d9-504845e0976a",
   "metadata": {},
   "outputs": [
    {
     "name": "stdout",
     "output_type": "stream",
     "text": [
      "Mean: 0.36\n",
      "Standard Deviation: 1.00\n"
     ]
    }
   ],
   "source": [
    "# Descriptives for Fox DV \n",
    "\n",
    "mean_value = FOX['DV Score'].mean()\n",
    "std_value = FOX['DV Score'].std()\n",
    "\n",
    "print(\"Mean: {:.2f}\".format(mean_value))\n",
    "print(\"Standard Deviation: {:.2f}\".format(std_value))"
   ]
  },
  {
   "cell_type": "code",
   "execution_count": 81,
   "id": "34c05fc3-629b-4c7b-b07b-697a2649bcde",
   "metadata": {
    "tags": []
   },
   "outputs": [
    {
     "name": "stdout",
     "output_type": "stream",
     "text": [
      "t-statistic: 1.797124\n",
      "p-value: 0.072975\n",
      "Degrees of Freedom: 458\n"
     ]
    }
   ],
   "source": [
    "# Using the same dfs as above, tunning a t-test between the DV Score and Outlet\n",
    "\n",
    "group1_data = CNN['DV Score']\n",
    "group2_data = FOX['DV Score']\n",
    "\n",
    "t_statistic, p_value = stats.ttest_ind(group1_data, group2_data, nan_policy='omit')\n",
    "\n",
    "n1 = len(group1_data)\n",
    "n2 = len(group2_data)\n",
    "degrees = n1 + n2 - 2\n",
    "\n",
    "print(\"t-statistic: {:.6f}\".format(t_statistic))\n",
    "print(\"p-value: {:.6f}\".format(p_value))\n",
    "print(\"Degrees of Freedom:\", degrees)"
   ]
  },
  {
   "cell_type": "markdown",
   "id": "36af0156-9cc8-4fe8-8f95-4850c17367d5",
   "metadata": {
    "tags": []
   },
   "source": [
    "### H4a: Conservative coverage will have higher decentralized visibility of scientists in comparison to pre-election coverage"
   ]
  },
  {
   "cell_type": "code",
   "execution_count": 82,
   "id": "90f1973b-1bf3-4762-b96a-82f23bc65697",
   "metadata": {
    "tags": []
   },
   "outputs": [
    {
     "data": {
      "text/plain": [
       "2    150\n",
       "1     44\n",
       "Name: Before_AFter, dtype: int64"
      ]
     },
     "execution_count": 82,
     "metadata": {},
     "output_type": "execute_result"
    }
   ],
   "source": [
    "FOX['Before_AFter'].value_counts()"
   ]
  },
  {
   "cell_type": "code",
   "execution_count": 83,
   "id": "c3bf9456-c19c-4c4e-95a0-0d8e8367680e",
   "metadata": {
    "tags": []
   },
   "outputs": [],
   "source": [
    "# Filtering Fox frame into 'before' and 'after' election, beginning with before \n",
    "\n",
    "FoxNews_PRE = FOX[FOX['Before_AFter'] == 1]"
   ]
  },
  {
   "cell_type": "code",
   "execution_count": 84,
   "id": "49e090d1-8d42-4825-9e8d-cbb2d7d6c14d",
   "metadata": {
    "tags": []
   },
   "outputs": [
    {
     "name": "stdout",
     "output_type": "stream",
     "text": [
      "Mean: 0.76\n",
      "Standard Deviation: 1.81\n"
     ]
    }
   ],
   "source": [
    "mean_value = FoxNews_PRE['DV Score'].mean()\n",
    "std_value = FoxNews_PRE['DV Score'].std()\n",
    "\n",
    "print(\"Mean: {:.2f}\".format(mean_value))\n",
    "print(\"Standard Deviation: {:.2f}\".format(std_value))"
   ]
  },
  {
   "cell_type": "code",
   "execution_count": 85,
   "id": "d2e397b2-82d9-4486-9d4b-36354ca0790a",
   "metadata": {
    "tags": []
   },
   "outputs": [],
   "source": [
    "# Filtering Fox frame into 'before' and 'after' election, now after\n",
    "\n",
    "FoxNews_POST = FOX[FOX['Before_AFter'] == 2]"
   ]
  },
  {
   "cell_type": "code",
   "execution_count": 86,
   "id": "ee9f7245-cc74-4e46-a36d-e704ce9a7321",
   "metadata": {
    "tags": []
   },
   "outputs": [
    {
     "name": "stdout",
     "output_type": "stream",
     "text": [
      "Mean: 0.24\n",
      "Standard Deviation: 0.54\n"
     ]
    }
   ],
   "source": [
    "mean_value = FoxNews_POST['DV Score'].mean()\n",
    "std_value = FoxNews_POST['DV Score'].std()\n",
    "\n",
    "print(\"Mean: {:.2f}\".format(mean_value))\n",
    "print(\"Standard Deviation: {:.2f}\".format(std_value))"
   ]
  },
  {
   "cell_type": "code",
   "execution_count": 87,
   "id": "d21baba1-7372-40cb-b7a3-a7667a3ab4f4",
   "metadata": {
    "tags": []
   },
   "outputs": [
    {
     "name": "stdout",
     "output_type": "stream",
     "text": [
      "t-statistic: 3.073365\n",
      "p-value: 0.002425\n",
      "Degrees of Freedom: 192\n"
     ]
    }
   ],
   "source": [
    "# Using in a t-test to calculate differences in DV between periods for Fox News articles\n",
    "\n",
    "group1_data = FoxNews_PRE['DV Score'] \n",
    "group2_data = FoxNews_POST['DV Score'] \n",
    "\n",
    "t_statistic, p_value = stats.ttest_ind(group1_data, group2_data, nan_policy='omit')\n",
    "\n",
    "n1 = len(group1_data)\n",
    "n2 = len(group2_data)\n",
    "degrees = n1 + n2 - 2\n",
    "\n",
    "print(\"t-statistic: {:.6f}\".format(t_statistic))\n",
    "print(\"p-value: {:.6f}\".format(p_value))\n",
    "print(\"Degrees of Freedom:\", degrees)"
   ]
  },
  {
   "cell_type": "code",
   "execution_count": 88,
   "id": "8689a882-0839-483c-8f5c-02b663f9ef34",
   "metadata": {
    "tags": []
   },
   "outputs": [
    {
     "name": "stdout",
     "output_type": "stream",
     "text": [
      "95% Confidence Interval: (0.21975551813318756, 0.5038341691434232)\n"
     ]
    }
   ],
   "source": [
    "confidence_interval = stats.t.interval(0.95, len(FOX['DV Score']) - 1, loc=np.mean(FOX['DV Score']), scale=stats.sem(FOX['DV Score']))\n",
    "print(\"95% Confidence Interval:\", confidence_interval)"
   ]
  },
  {
   "cell_type": "markdown",
   "id": "cd37c5d0-85ff-4acd-8cda-756192f3b24e",
   "metadata": {
    "tags": []
   },
   "source": [
    "### H4b: Liberal coverage will display higher centralized visibility of scientists in comparison to pre-election coverage"
   ]
  },
  {
   "cell_type": "code",
   "execution_count": 89,
   "id": "5bf7f2a9-cd26-429e-86db-b77e3907b38c",
   "metadata": {
    "tags": []
   },
   "outputs": [
    {
     "data": {
      "text/plain": [
       "2    183\n",
       "1     83\n",
       "Name: Before_AFter, dtype: int64"
      ]
     },
     "execution_count": 89,
     "metadata": {},
     "output_type": "execute_result"
    }
   ],
   "source": [
    "CNN['Before_AFter'].value_counts()"
   ]
  },
  {
   "cell_type": "code",
   "execution_count": 90,
   "id": "e52c85ce-066b-4557-b204-98d3892eb93f",
   "metadata": {
    "tags": []
   },
   "outputs": [
    {
     "name": "stdout",
     "output_type": "stream",
     "text": [
      "Mean: 0.60\n",
      "Standard Deviation: 1.34\n"
     ]
    }
   ],
   "source": [
    "mean_value = CNN['CV Score'].mean()\n",
    "std_value = CNN['CV Score'].std()\n",
    "\n",
    "print(\"Mean: {:.2f}\".format(mean_value))\n",
    "print(\"Standard Deviation: {:.2f}\".format(std_value))"
   ]
  },
  {
   "cell_type": "code",
   "execution_count": 91,
   "id": "4fd6e462-6094-4f50-b90c-29e13a246535",
   "metadata": {
    "tags": []
   },
   "outputs": [],
   "source": [
    "# Filtering CNN frame into 'before' and 'after' election, beginning with before \n",
    "\n",
    "CNN_PRE = CNN[CNN['Before_AFter'] == 1]"
   ]
  },
  {
   "cell_type": "code",
   "execution_count": 92,
   "id": "efd38b34-d0d5-40fe-9fb1-85d3dd09d9ed",
   "metadata": {
    "tags": []
   },
   "outputs": [
    {
     "name": "stdout",
     "output_type": "stream",
     "text": [
      "Mean: 0.91\n",
      "Standard Deviation: 2.10\n"
     ]
    }
   ],
   "source": [
    "mean_value = CNN_PRE['CV Score'].mean()\n",
    "std_value = CNN_PRE['CV Score'].std()\n",
    "\n",
    "print(\"Mean: {:.2f}\".format(mean_value))\n",
    "print(\"Standard Deviation: {:.2f}\".format(std_value))"
   ]
  },
  {
   "cell_type": "code",
   "execution_count": 93,
   "id": "50733340-2b38-440b-bd70-86e2c3552342",
   "metadata": {
    "tags": []
   },
   "outputs": [],
   "source": [
    "# Filtering CNN frame into 'before' and 'after' election, now after\n",
    "\n",
    "CNN_POST = CNN[CNN['Before_AFter'] == 2]"
   ]
  },
  {
   "cell_type": "code",
   "execution_count": 94,
   "id": "02648207-db20-452c-a585-b0d4e6322cf3",
   "metadata": {
    "tags": []
   },
   "outputs": [
    {
     "name": "stdout",
     "output_type": "stream",
     "text": [
      "Mean: 0.46\n",
      "Standard Deviation: 0.74\n"
     ]
    }
   ],
   "source": [
    "mean_value = CNN_POST['CV Score'].mean()\n",
    "std_value = CNN_POST['CV Score'].std()\n",
    "\n",
    "print(\"Mean: {:.2f}\".format(mean_value))\n",
    "print(\"Standard Deviation: {:.2f}\".format(std_value))"
   ]
  },
  {
   "cell_type": "code",
   "execution_count": 95,
   "id": "3b1cac5e-c4f3-440e-b0fc-921fc3039255",
   "metadata": {
    "tags": []
   },
   "outputs": [
    {
     "name": "stdout",
     "output_type": "stream",
     "text": [
      "t-statistic: 2.553478\n",
      "p-value: 0.011228\n",
      "Degrees of Freedom: 264\n"
     ]
    }
   ],
   "source": [
    "# Using in a t-test to calculate differences in CV between periods for CNN articles\n",
    "\n",
    "group1_data = CNN_PRE['CV Score'] \n",
    "group2_data = CNN_POST['CV Score'] \n",
    "\n",
    "t_statistic, p_value = stats.ttest_ind(group1_data, group2_data, nan_policy='omit')\n",
    "\n",
    "n1 = len(group1_data)\n",
    "n2 = len(group2_data)\n",
    "degrees = n1 + n2 - 2\n",
    "\n",
    "print(\"t-statistic: {:.6f}\".format(t_statistic))\n",
    "print(\"p-value: {:.6f}\".format(p_value))\n",
    "print(\"Degrees of Freedom:\", degrees)"
   ]
  },
  {
   "cell_type": "code",
   "execution_count": 96,
   "id": "34ec5d23-486f-43c0-b0de-812f3c2adf09",
   "metadata": {
    "tags": []
   },
   "outputs": [
    {
     "name": "stdout",
     "output_type": "stream",
     "text": [
      "95% Confidence Interval: (0.43600905221203046, 0.7590903507464358)\n"
     ]
    }
   ],
   "source": [
    "confidence_interval = stats.t.interval(0.95, len(CNN['CV Score']) - 1, loc=np.mean(CNN['CV Score']), scale=stats.sem(CNN['CV Score']))\n",
    "print(\"95% Confidence Interval:\", confidence_interval)"
   ]
  },
  {
   "cell_type": "markdown",
   "id": "16dfb0aa-e0bc-4017-a7b3-ab80b610a781",
   "metadata": {
    "tags": []
   },
   "source": [
    "## Legitimizing and Criticizing: H2 and H3"
   ]
  },
  {
   "cell_type": "markdown",
   "id": "650de16b-1738-49d9-a17b-407848ce2f11",
   "metadata": {
    "tags": []
   },
   "source": [
    "### H2a: Conservative coverage will criticize more scientists than liberal coverage."
   ]
  },
  {
   "cell_type": "code",
   "execution_count": 97,
   "id": "f1f736bd-d255-4499-9e49-5d53088fef29",
   "metadata": {
    "tags": []
   },
   "outputs": [
    {
     "data": {
      "text/plain": [
       "Unit ID             object\n",
       "Outlet              object\n",
       "Headline            object\n",
       "Before_AFter        object\n",
       "Article Type        object\n",
       "Generalizations      int64\n",
       "Scientists           int64\n",
       "s1                  object\n",
       "sn1                  int64\n",
       "s2                  object\n",
       "sn2                  int64\n",
       "s3                  object\n",
       "sn3                  int64\n",
       "s4                  object\n",
       "sn4                  int64\n",
       "s5                  object\n",
       "sn5                  int64\n",
       "s6                  object\n",
       "sn6                  int64\n",
       "s7                  object\n",
       "sn7                  int64\n",
       "s8                  object\n",
       "sn8                  int64\n",
       "s9                  object\n",
       "sn9                  int64\n",
       "s10                 object\n",
       "sn10                 int64\n",
       "91                   int64\n",
       "101                  int64\n",
       "111                  int64\n",
       "121                  int64\n",
       "131                  int64\n",
       "141                  int64\n",
       "92                   int64\n",
       "102                  int64\n",
       "112                  int64\n",
       "122                  int64\n",
       "132                  int64\n",
       "142                  int64\n",
       "93                   int64\n",
       "103                  int64\n",
       "113                  int64\n",
       "123                  int64\n",
       "133                  int64\n",
       "143                  int64\n",
       "94                   int64\n",
       "104                  int64\n",
       "114                  int64\n",
       "124                  int64\n",
       "134                  int64\n",
       "144                  int64\n",
       "95                   int64\n",
       "105                  int64\n",
       "115                  int64\n",
       "125                  int64\n",
       "135                  int64\n",
       "145                  int64\n",
       "96                   int64\n",
       "106                  int64\n",
       "116                  int64\n",
       "126                  int64\n",
       "136                  int64\n",
       "146                  int64\n",
       "97                   int64\n",
       "107                  int64\n",
       "117                  int64\n",
       "127                  int64\n",
       "137                  int64\n",
       "147                  int64\n",
       "98                   int64\n",
       "108                  int64\n",
       "118                  int64\n",
       "128                  int64\n",
       "138                  int64\n",
       "148                  int64\n",
       "99                   int64\n",
       "109                  int64\n",
       "119                  int64\n",
       "129                  int64\n",
       "139                  int64\n",
       "149                  int64\n",
       "910                  int64\n",
       "1010                 int64\n",
       "1110                 int64\n",
       "1210                 int64\n",
       "1310                 int64\n",
       "1410                 int64\n",
       "Leader_1             int64\n",
       "Leader_2             int64\n",
       "Leader_3             int64\n",
       "Leader_4             int64\n",
       "Leader_5             int64\n",
       "Leader_6             int64\n",
       "Leader_7             int64\n",
       "Leader_8             int64\n",
       "Leader_9             int64\n",
       "Leader_10            int64\n",
       "Leaders              int64\n",
       "Non-Leaders          int64\n",
       "CentralizedV         int64\n",
       "DecentralizedV       int64\n",
       "CV Score           float64\n",
       "DV Score           float64\n",
       "Total Vis            int64\n",
       "Vis Score          float64\n",
       "dtype: object"
      ]
     },
     "execution_count": 97,
     "metadata": {},
     "output_type": "execute_result"
    }
   ],
   "source": [
    "# Examining data types to create new variables\n",
    "\n",
    "df.dtypes"
   ]
  },
  {
   "cell_type": "code",
   "execution_count": 98,
   "id": "807a9578-2078-432a-ab81-4dd9488d0c9d",
   "metadata": {
    "tags": []
   },
   "outputs": [],
   "source": [
    "# Converting nominal variables into integers to perform a count that looks at the presence of '1' in either '12#' or '13#' columns\n",
    "\n",
    "df['Combo1'] = ((df['121'] == 1) | (df['131'] == 1)).astype(int)\n",
    "df['Combo2'] = ((df['122'] == 1) | (df['132'] == 1)).astype(int)\n",
    "df['Combo3'] = ((df['123'] == 1) | (df['133'] == 1)).astype(int)\n",
    "df['Combo4'] = ((df['124'] == 1) | (df['134'] == 1)).astype(int)\n",
    "df['Combo5'] = ((df['125'] == 1) | (df['135'] == 1)).astype(int)\n",
    "df['Combo5'] = ((df['125'] == 1) | (df['135'] == 1)).astype(int)\n",
    "df['Combo6'] = ((df['126'] == 1) | (df['136'] == 1)).astype(int)\n",
    "df['Combo7'] = ((df['127'] == 1) | (df['137'] == 1)).astype(int)\n",
    "df['Combo8'] = ((df['128'] == 1) | (df['138'] == 1)).astype(int)\n",
    "df['Combo9'] = ((df['129'] == 1) | (df['139'] == 1)).astype(int)\n",
    "df['Combo10'] = ((df['1210'] == 1) | (df['1310'] == 1)).astype(int)"
   ]
  },
  {
   "cell_type": "code",
   "execution_count": 99,
   "id": "196e3b0d-a184-42de-98a8-2be72de36190",
   "metadata": {
    "tags": []
   },
   "outputs": [],
   "source": [
    "# Creating a new column summing the total combinations of the others\n",
    "\n",
    "df['Combo Total'] = df[['Combo1', 'Combo2', 'Combo3', 'Combo4', 'Combo5', 'Combo6', 'Combo7', 'Combo8', 'Combo9', 'Combo10']].sum(axis=1)"
   ]
  },
  {
   "cell_type": "code",
   "execution_count": 100,
   "id": "d7801f15-1ac7-4ef4-ac44-9e1d5903d9c2",
   "metadata": {
    "tags": []
   },
   "outputs": [
    {
     "data": {
      "text/plain": [
       "0    428\n",
       "1     28\n",
       "2      4\n",
       "Name: Combo Total, dtype: int64"
      ]
     },
     "execution_count": 100,
     "metadata": {},
     "output_type": "execute_result"
    }
   ],
   "source": [
    "df['Combo Total'].value_counts()"
   ]
  },
  {
   "cell_type": "code",
   "execution_count": 101,
   "id": "e21b3e84-baf9-4f88-b3df-283aca7ce738",
   "metadata": {
    "tags": []
   },
   "outputs": [
    {
     "data": {
      "text/plain": [
       "count    460.000000\n",
       "mean       0.078261\n",
       "std        0.299537\n",
       "min        0.000000\n",
       "25%        0.000000\n",
       "50%        0.000000\n",
       "75%        0.000000\n",
       "max        2.000000\n",
       "Name: Combo Total, dtype: float64"
      ]
     },
     "execution_count": 101,
     "metadata": {},
     "output_type": "execute_result"
    }
   ],
   "source": [
    "df['Combo Total'].describe()"
   ]
  },
  {
   "cell_type": "code",
   "execution_count": 102,
   "id": "ef4eaa4d-6629-4ff8-9439-810cc189ee8d",
   "metadata": {
    "tags": []
   },
   "outputs": [
    {
     "name": "stdout",
     "output_type": "stream",
     "text": [
      "95% Confidence Interval: (0.050815667310741414, 0.10570607181969338)\n"
     ]
    }
   ],
   "source": [
    "confidence_interval = stats.t.interval(0.95, len(df['Combo Total']) - 1, loc=np.mean(df['Combo Total']), scale=stats.sem(df['Combo Total']))\n",
    "print(\"95% Confidence Interval:\", confidence_interval)"
   ]
  },
  {
   "cell_type": "code",
   "execution_count": 103,
   "id": "ff187041-2a4d-4656-9062-b24aadb3c20e",
   "metadata": {
    "tags": []
   },
   "outputs": [
    {
     "name": "stdout",
     "output_type": "stream",
     "text": [
      "Mean: 0.08\n",
      "Standard Deviation: 0.30\n"
     ]
    }
   ],
   "source": [
    "mean_value = df['Combo Total'].mean()\n",
    "std_value = df['Combo Total'].std()\n",
    "\n",
    "print(\"Mean: {:.2f}\".format(mean_value))\n",
    "print(\"Standard Deviation: {:.2f}\".format(std_value))"
   ]
  },
  {
   "cell_type": "code",
   "execution_count": 104,
   "id": "e98f9849-78ea-4ab3-8939-2ac0b0895b35",
   "metadata": {
    "tags": []
   },
   "outputs": [],
   "source": [
    "# Creating a CNN frame using updated df\n",
    "\n",
    "CNN_Combo = df[df['Outlet'] == 1]"
   ]
  },
  {
   "cell_type": "code",
   "execution_count": 105,
   "id": "c83ab3ce-5043-4a54-b2d2-1abac843cc1d",
   "metadata": {
    "tags": []
   },
   "outputs": [
    {
     "data": {
      "text/plain": [
       "1    266\n",
       "Name: Outlet, dtype: int64"
      ]
     },
     "execution_count": 105,
     "metadata": {},
     "output_type": "execute_result"
    }
   ],
   "source": [
    "CNN_Combo['Outlet'].value_counts()"
   ]
  },
  {
   "cell_type": "code",
   "execution_count": 106,
   "id": "1cab0ca8-f17b-46e1-9b8d-f2f594812e39",
   "metadata": {
    "tags": []
   },
   "outputs": [
    {
     "name": "stdout",
     "output_type": "stream",
     "text": [
      "Mean: 0.06\n",
      "Standard Deviation: 0.27\n"
     ]
    }
   ],
   "source": [
    "mean_value = CNN_Combo['Combo Total'].mean()\n",
    "std_value = CNN_Combo['Combo Total'].std()\n",
    "\n",
    "print(\"Mean: {:.2f}\".format(mean_value))\n",
    "print(\"Standard Deviation: {:.2f}\".format(std_value))"
   ]
  },
  {
   "cell_type": "code",
   "execution_count": 107,
   "id": "30b3c26f-49a9-487e-a2eb-8e58acc13229",
   "metadata": {
    "tags": []
   },
   "outputs": [],
   "source": [
    "# Creating a Fox News frame using updated df\n",
    "\n",
    "Fox_Combo = df[df['Outlet'] == 2]"
   ]
  },
  {
   "cell_type": "code",
   "execution_count": 108,
   "id": "ee9c8548-b440-42e4-b613-ad06eec005d6",
   "metadata": {
    "tags": []
   },
   "outputs": [
    {
     "data": {
      "text/plain": [
       "2    194\n",
       "Name: Outlet, dtype: int64"
      ]
     },
     "execution_count": 108,
     "metadata": {},
     "output_type": "execute_result"
    }
   ],
   "source": [
    "Fox_Combo['Outlet'].value_counts()"
   ]
  },
  {
   "cell_type": "code",
   "execution_count": 109,
   "id": "79e56492-1acc-453a-af4e-46ceb2bdf350",
   "metadata": {
    "tags": []
   },
   "outputs": [
    {
     "name": "stdout",
     "output_type": "stream",
     "text": [
      "Mean: 0.10\n",
      "Standard Deviation: 0.33\n"
     ]
    }
   ],
   "source": [
    "mean_value = Fox_Combo['Combo Total'].mean()\n",
    "std_value = Fox_Combo['Combo Total'].std()\n",
    "\n",
    "print(\"Mean: {:.2f}\".format(mean_value))\n",
    "print(\"Standard Deviation: {:.2f}\".format(std_value))"
   ]
  },
  {
   "cell_type": "code",
   "execution_count": 110,
   "id": "f6464d09-39aa-49fb-b665-fe837f8198d7",
   "metadata": {
    "tags": []
   },
   "outputs": [
    {
     "name": "stdout",
     "output_type": "stream",
     "text": [
      "t-statistic: -1.203832\n",
      "p-value: 0.229276\n",
      "Degrees of Freedom: 458\n"
     ]
    }
   ],
   "source": [
    "# Running a t-test between the outlets for the number of scientists criticized \n",
    "\n",
    "group1_data = CNN_Combo['Combo Total'] \n",
    "group2_data = Fox_Combo['Combo Total'] \n",
    "\n",
    "t_statistic, p_value = stats.ttest_ind(group1_data, group2_data, nan_policy='omit')\n",
    "\n",
    "n1 = len(group1_data)\n",
    "n2 = len(group2_data)\n",
    "degrees = n1 + n2 - 2\n",
    "\n",
    "print(\"t-statistic: {:.6f}\".format(t_statistic))\n",
    "print(\"p-value: {:.6f}\".format(p_value))\n",
    "print(\"Degrees of Freedom:\", degrees)"
   ]
  },
  {
   "cell_type": "markdown",
   "id": "7f70b91d-d225-4672-a9dd-96d25798bddb",
   "metadata": {
    "tags": []
   },
   "source": [
    "### H2b: Liberal coverage will legitimize more scientists than conservative coverage"
   ]
  },
  {
   "cell_type": "code",
   "execution_count": 111,
   "id": "b764b5be-2385-4e91-9224-205fc2e0ae0b",
   "metadata": {
    "tags": []
   },
   "outputs": [],
   "source": [
    "# Recoding the values of the 'Corroborate' or '9#' variables to match the scale of the 'Combination' variable \n",
    "recode_corrborate = {1: 1, 0: 0, 2: 0}\n",
    "\n",
    "# Trying it first with '91'\n",
    "df['91'] = df['91'].replace(recode_corrborate)"
   ]
  },
  {
   "cell_type": "code",
   "execution_count": 112,
   "id": "f131c3b0-dbf6-48d2-bfb7-534bc3083a99",
   "metadata": {
    "tags": []
   },
   "outputs": [],
   "source": [
    "#Repeating for the others \n",
    "\n",
    "df['92'] = df['92'].replace(recode_corrborate)\n",
    "df['93'] = df['93'].replace(recode_corrborate)\n",
    "df['94'] = df['95'].replace(recode_corrborate)\n",
    "df['95'] = df['95'].replace(recode_corrborate)\n",
    "df['96'] = df['96'].replace(recode_corrborate)\n",
    "df['97'] = df['97'].replace(recode_corrborate)\n",
    "df['98'] = df['98'].replace(recode_corrborate)\n",
    "df['99'] = df['99'].replace(recode_corrborate)\n",
    "df['910'] = df['910'].replace(recode_corrborate)"
   ]
  },
  {
   "cell_type": "code",
   "execution_count": 113,
   "id": "9ddff0fb-c16f-404a-a89c-0e8b686908fd",
   "metadata": {
    "tags": []
   },
   "outputs": [],
   "source": [
    "# Creating a new variable that sums their totals to repreresent the total number of scientists corroborated per article\n",
    "\n",
    "column_list = ['91', '92', '93', '94', '95', '96', '97', '98', '99', '910']\n",
    "df['Total Corr'] = df.loc[:, column_list].sum(axis=1)\n"
   ]
  },
  {
   "cell_type": "code",
   "execution_count": 114,
   "id": "d245bb6a-cd7e-4f2b-91a4-6de05a6908b7",
   "metadata": {
    "tags": []
   },
   "outputs": [
    {
     "data": {
      "text/plain": [
       "0     186\n",
       "1     140\n",
       "2      66\n",
       "3      42\n",
       "5      11\n",
       "6       8\n",
       "7       4\n",
       "14      1\n",
       "10      1\n",
       "8       1\n",
       "Name: Total Corr, dtype: int64"
      ]
     },
     "execution_count": 114,
     "metadata": {},
     "output_type": "execute_result"
    }
   ],
   "source": [
    "df['Total Corr'].value_counts()"
   ]
  },
  {
   "cell_type": "code",
   "execution_count": 115,
   "id": "e6c1957b-57dd-4317-b546-b95e0e384d25",
   "metadata": {
    "tags": []
   },
   "outputs": [],
   "source": [
    "#the maximum value Total Corr could have as a sum is 10, but there is a 14. After manually checking the dataset and rerunning codes of missing\n",
    "#values, I will manually switch the incorrect row to its correct value by summing the 9s \n",
    "\n",
    "df.at[74, 'Total Corr'] = 4"
   ]
  },
  {
   "cell_type": "code",
   "execution_count": 116,
   "id": "b5e6fbd2-e05c-418a-bf3e-3f336f9c6f31",
   "metadata": {
    "tags": []
   },
   "outputs": [
    {
     "data": {
      "text/plain": [
       "0     186\n",
       "1     140\n",
       "2      66\n",
       "3      42\n",
       "5      11\n",
       "6       8\n",
       "7       4\n",
       "4       1\n",
       "10      1\n",
       "8       1\n",
       "Name: Total Corr, dtype: int64"
      ]
     },
     "execution_count": 116,
     "metadata": {},
     "output_type": "execute_result"
    }
   ],
   "source": [
    "#Resolved\n",
    "\n",
    "df['Total Corr'].value_counts()"
   ]
  },
  {
   "cell_type": "code",
   "execution_count": 117,
   "id": "6b21c699-c0f9-4f6b-a554-a5b1acb696ce",
   "metadata": {},
   "outputs": [
    {
     "data": {
      "text/plain": [
       "count    460.000000\n",
       "mean       1.197826\n",
       "std        1.520376\n",
       "min        0.000000\n",
       "25%        0.000000\n",
       "50%        1.000000\n",
       "75%        2.000000\n",
       "max       10.000000\n",
       "Name: Total Corr, dtype: float64"
      ]
     },
     "execution_count": 117,
     "metadata": {},
     "output_type": "execute_result"
    }
   ],
   "source": [
    "df['Total Corr'].describe()"
   ]
  },
  {
   "cell_type": "code",
   "execution_count": 118,
   "id": "1c34fdde-f169-470e-9353-b14225ee16dd",
   "metadata": {},
   "outputs": [
    {
     "name": "stdout",
     "output_type": "stream",
     "text": [
      "95% Confidence Interval: (1.0585210704813128, 1.3371311034317308)\n"
     ]
    }
   ],
   "source": [
    "confidence_interval = stats.t.interval(0.95, len(df['Total Corr']) - 1, loc=np.mean(df['Total Corr']), scale=stats.sem(df['Total Corr']))\n",
    "print(\"95% Confidence Interval:\", confidence_interval)"
   ]
  },
  {
   "cell_type": "code",
   "execution_count": 119,
   "id": "dc09f1b2-6444-4601-ac2f-7d0dc6fa0074",
   "metadata": {
    "tags": []
   },
   "outputs": [
    {
     "name": "stdout",
     "output_type": "stream",
     "text": [
      "Mean: 1.20\n",
      "Standard Deviation: 1.52\n"
     ]
    }
   ],
   "source": [
    "mean_value = df['Total Corr'].mean()\n",
    "std_value = df['Total Corr'].std()\n",
    "\n",
    "print(\"Mean: {:.2f}\".format(mean_value))\n",
    "print(\"Standard Deviation: {:.2f}\".format(std_value))"
   ]
  },
  {
   "cell_type": "code",
   "execution_count": 120,
   "id": "2dab4737-93c8-4b26-a672-c6498d7a419e",
   "metadata": {
    "tags": []
   },
   "outputs": [],
   "source": [
    "# Creating a CNN frame\n",
    "\n",
    "CNN_Corr = df[df['Outlet'] == 1]"
   ]
  },
  {
   "cell_type": "code",
   "execution_count": 121,
   "id": "c3fb3bea-f322-4170-a033-e4b3bec584c4",
   "metadata": {
    "tags": []
   },
   "outputs": [
    {
     "data": {
      "text/plain": [
       "1    266\n",
       "Name: Outlet, dtype: int64"
      ]
     },
     "execution_count": 121,
     "metadata": {},
     "output_type": "execute_result"
    }
   ],
   "source": [
    "CNN_Corr['Outlet'].value_counts()"
   ]
  },
  {
   "cell_type": "code",
   "execution_count": 122,
   "id": "b890c26f-84be-42ad-b5a6-632a65bbe28a",
   "metadata": {
    "tags": []
   },
   "outputs": [
    {
     "name": "stdout",
     "output_type": "stream",
     "text": [
      "Mean: 1.41\n",
      "Standard Deviation: 1.60\n"
     ]
    }
   ],
   "source": [
    "mean_value = CNN_Corr['Total Corr'].mean()\n",
    "std_value = CNN_Corr['Total Corr'].std()\n",
    "\n",
    "print(\"Mean: {:.2f}\".format(mean_value))\n",
    "print(\"Standard Deviation: {:.2f}\".format(std_value))"
   ]
  },
  {
   "cell_type": "code",
   "execution_count": 123,
   "id": "38ab8d4e-c86b-4a3b-b651-0e6fcbe5e149",
   "metadata": {
    "tags": []
   },
   "outputs": [],
   "source": [
    "# Creating a Fox News frame \n",
    "\n",
    "Fox_Corr = df[df['Outlet'] == 2]"
   ]
  },
  {
   "cell_type": "code",
   "execution_count": 124,
   "id": "76b3e01f-d7bc-4a90-ba1e-55a2c33fddb7",
   "metadata": {
    "tags": []
   },
   "outputs": [
    {
     "data": {
      "text/plain": [
       "2    194\n",
       "Name: Outlet, dtype: int64"
      ]
     },
     "execution_count": 124,
     "metadata": {},
     "output_type": "execute_result"
    }
   ],
   "source": [
    "Fox_Corr['Outlet'].value_counts()"
   ]
  },
  {
   "cell_type": "code",
   "execution_count": 125,
   "id": "c07084ac-fe65-4684-9b12-79fc6ff40926",
   "metadata": {
    "tags": []
   },
   "outputs": [
    {
     "name": "stdout",
     "output_type": "stream",
     "text": [
      "Mean: 0.91\n",
      "Standard Deviation: 1.36\n"
     ]
    }
   ],
   "source": [
    "mean_value = Fox_Corr['Total Corr'].mean()\n",
    "std_value = Fox_Corr['Total Corr'].std()\n",
    "\n",
    "print(\"Mean: {:.2f}\".format(mean_value))\n",
    "print(\"Standard Deviation: {:.2f}\".format(std_value))"
   ]
  },
  {
   "cell_type": "code",
   "execution_count": 126,
   "id": "ddade195-de95-495e-8cf5-0443a5df5174",
   "metadata": {
    "tags": []
   },
   "outputs": [
    {
     "name": "stdout",
     "output_type": "stream",
     "text": [
      "t-statistic: 3.544884\n",
      "p-value: 0.000433\n",
      "Degrees of Freedom: 458\n"
     ]
    }
   ],
   "source": [
    "# Running a t-test to test the differnce between outlets for total number of scientists corroborated per article\n",
    "\n",
    "group1_data = CNN_Corr['Total Corr'] \n",
    "group2_data = Fox_Corr['Total Corr'] \n",
    "\n",
    "t_statistic, p_value = stats.ttest_ind(group1_data, group2_data, nan_policy='omit')\n",
    "\n",
    "n1 = len(group1_data)\n",
    "n2 = len(group2_data)\n",
    "degrees = n1 + n2 - 2\n",
    "\n",
    "print(\"t-statistic: {:.6f}\".format(t_statistic))\n",
    "print(\"p-value: {:.6f}\".format(p_value))\n",
    "print(\"Degrees of Freedom:\", degrees)"
   ]
  },
  {
   "cell_type": "markdown",
   "id": "c2b8c241-63ea-4dc7-af10-08b4533c94cb",
   "metadata": {
    "tags": []
   },
   "source": [
    "### H3a: Conservative coverage will amplify the criticism of scientists in the post-election period, compared to the pre-election coverage"
   ]
  },
  {
   "cell_type": "markdown",
   "id": "c7f0f564-3ea6-48c7-a364-304ec87bc604",
   "metadata": {},
   "source": [
    "The original variable '13#' was scaled 1-4 indicating that the scientist was 'very crticized' to 'not criticized', and was recoded to the following: \n",
    "\n",
    "* 1 'Very criticized' = 2\n",
    "* 2 'Somewhat criticized' = 1\n",
    "* 3 'Neither / Nor' = 0\n",
    "* 4 'Not criticized' = 0 \n",
    "\n",
    "This way, scientists who were very criticized count more than those who were just somewhat criticized. However if scientists were treated neutrally or not criticized, then the value do not affect the score."
   ]
  },
  {
   "cell_type": "code",
   "execution_count": 127,
   "id": "9aa40194-c7e8-41f7-9f62-0656fdd78f21",
   "metadata": {
    "tags": []
   },
   "outputs": [],
   "source": [
    "#Recoding the values\n",
    "recode_criticism = {1: 2, 2: 1, 3: 0, 4: 0}\n",
    "\n",
    "#trying it out one variable\n",
    "df['141'] = df['141'].replace(recode_criticism)"
   ]
  },
  {
   "cell_type": "code",
   "execution_count": 128,
   "id": "aff308fa-4c6d-4c72-8529-19751944baee",
   "metadata": {
    "tags": []
   },
   "outputs": [],
   "source": [
    "#Repeating for the remainder \n",
    "\n",
    "df['142'] = df['142'].replace(recode_criticism)\n",
    "df['143'] = df['143'].replace(recode_criticism)\n",
    "df['144'] = df['144'].replace(recode_criticism)\n",
    "df['145'] = df['145'].replace(recode_criticism)\n",
    "df['146'] = df['146'].replace(recode_criticism)\n",
    "df['147'] = df['147'].replace(recode_criticism)\n",
    "df['148'] = df['148'].replace(recode_criticism)\n",
    "df['149'] = df['149'].replace(recode_criticism)\n",
    "df['1410'] = df['1410'].replace(recode_criticism)"
   ]
  },
  {
   "cell_type": "code",
   "execution_count": 129,
   "id": "20e72b6c-4f8d-4beb-b261-4acd8d932d3c",
   "metadata": {
    "tags": []
   },
   "outputs": [],
   "source": [
    "# Confirmed \n",
    "\n",
    "df"
   ]
  },
  {
   "cell_type": "code",
   "execution_count": 130,
   "id": "4d700400-90a0-467d-948b-ab3571cfa8ea",
   "metadata": {
    "tags": []
   },
   "outputs": [],
   "source": [
    "# Creating a new column that averages the criticism score of each scientsist per article to one mean value per article\n",
    "\n",
    "df['Criticism Score'] = df[['141', '142', '143', '144', '145', '146', '147', '148', '149', '1410']].mean(axis=1)"
   ]
  },
  {
   "cell_type": "code",
   "execution_count": 131,
   "id": "e690115b-5100-4ade-ab12-969e3c3d48fe",
   "metadata": {
    "tags": []
   },
   "outputs": [
    {
     "name": "stdout",
     "output_type": "stream",
     "text": [
      "Mean: 0.01\n",
      "Standard Deviation: 0.04\n"
     ]
    }
   ],
   "source": [
    "mean_value = df['Criticism Score'].mean()\n",
    "std_value = df['Criticism Score'].std()\n",
    "\n",
    "print(\"Mean: {:.2f}\".format(mean_value))\n",
    "print(\"Standard Deviation: {:.2f}\".format(std_value))"
   ]
  },
  {
   "cell_type": "code",
   "execution_count": 132,
   "id": "7f05ab61-ecc9-4d47-8866-6c5078c2e62c",
   "metadata": {
    "tags": []
   },
   "outputs": [
    {
     "name": "stdout",
     "output_type": "stream",
     "text": [
      "95% Confidence Interval: (0.006554998439473038, 0.01474934938661392)\n"
     ]
    }
   ],
   "source": [
    "confidence_interval = stats.t.interval(0.95, len(df['Criticism Score']) - 1, loc=np.mean(df['Criticism Score']), scale=stats.sem(df['Criticism Score']))\n",
    "print(\"95% Confidence Interval:\", confidence_interval)"
   ]
  },
  {
   "cell_type": "code",
   "execution_count": 133,
   "id": "954d7d0f-4430-4ac5-9e67-ce6fb90f97af",
   "metadata": {
    "tags": []
   },
   "outputs": [],
   "source": [
    "# Separating the df for Fox News articles \n",
    "\n",
    "Fox_LevCriticism = df[df['Outlet'] == 2]"
   ]
  },
  {
   "cell_type": "code",
   "execution_count": 134,
   "id": "eee69747-5cec-4148-92be-17739c7221d5",
   "metadata": {
    "tags": []
   },
   "outputs": [
    {
     "data": {
      "text/plain": [
       "2    150\n",
       "1     44\n",
       "Name: Before_AFter, dtype: int64"
      ]
     },
     "execution_count": 134,
     "metadata": {},
     "output_type": "execute_result"
    }
   ],
   "source": [
    "Fox_LevCriticism['Before_AFter'].value_counts()"
   ]
  },
  {
   "cell_type": "code",
   "execution_count": 135,
   "id": "f4628fba-460d-4115-b361-3ae62a1a20c7",
   "metadata": {
    "tags": []
   },
   "outputs": [],
   "source": [
    "# Separating the Fox News df by articles in the pre-election period\n",
    "\n",
    "Fox_LevCriticism_PRE = Fox_LevCriticism[Fox_LevCriticism['Before_AFter'] == 1]"
   ]
  },
  {
   "cell_type": "code",
   "execution_count": 136,
   "id": "92ee9ebf-8660-478f-9c60-b5eb3c1a2245",
   "metadata": {
    "tags": []
   },
   "outputs": [
    {
     "data": {
      "text/plain": [
       "1    44\n",
       "Name: Before_AFter, dtype: int64"
      ]
     },
     "execution_count": 136,
     "metadata": {},
     "output_type": "execute_result"
    }
   ],
   "source": [
    "Fox_LevCriticism_PRE['Before_AFter'].value_counts()"
   ]
  },
  {
   "cell_type": "code",
   "execution_count": 137,
   "id": "c1e0eb1a-04f8-44fa-a7ea-0c5c41e50334",
   "metadata": {
    "tags": []
   },
   "outputs": [
    {
     "name": "stdout",
     "output_type": "stream",
     "text": [
      "Mean: 0.01\n",
      "Standard Deviation: 0.03\n"
     ]
    }
   ],
   "source": [
    "mean_value = Fox_LevCriticism_PRE['Criticism Score'].mean()\n",
    "std_value = Fox_LevCriticism_PRE['Criticism Score'].std()\n",
    "\n",
    "print(\"Mean: {:.2f}\".format(mean_value))\n",
    "print(\"Standard Deviation: {:.2f}\".format(std_value))"
   ]
  },
  {
   "cell_type": "code",
   "execution_count": 138,
   "id": "8d651e61-a926-4fb2-a236-d9834cb813bd",
   "metadata": {
    "tags": []
   },
   "outputs": [],
   "source": [
    "# Separating the Fox News df by articles in the post-election period\n",
    "\n",
    "Fox_LevCriticism_POST = Fox_LevCriticism[Fox_LevCriticism['Before_AFter'] == 2]"
   ]
  },
  {
   "cell_type": "code",
   "execution_count": 139,
   "id": "9d66841d-abc0-4bd1-b8d1-0a0c5ea639a0",
   "metadata": {
    "tags": []
   },
   "outputs": [
    {
     "data": {
      "text/plain": [
       "2    150\n",
       "Name: Before_AFter, dtype: int64"
      ]
     },
     "execution_count": 139,
     "metadata": {},
     "output_type": "execute_result"
    }
   ],
   "source": [
    "Fox_LevCriticism_POST['Before_AFter'].value_counts()"
   ]
  },
  {
   "cell_type": "code",
   "execution_count": 140,
   "id": "657e8421-4e05-4926-86dd-8fe37c42f5d0",
   "metadata": {
    "tags": []
   },
   "outputs": [
    {
     "name": "stdout",
     "output_type": "stream",
     "text": [
      "Mean: 0.02\n",
      "Standard Deviation: 0.06\n"
     ]
    }
   ],
   "source": [
    "mean_value = Fox_LevCriticism_POST['Criticism Score'].mean()\n",
    "std_value = Fox_LevCriticism_POST['Criticism Score'].std()\n",
    "\n",
    "print(\"Mean: {:.2f}\".format(mean_value))\n",
    "print(\"Standard Deviation: {:.2f}\".format(std_value))"
   ]
  },
  {
   "cell_type": "code",
   "execution_count": 141,
   "id": "7bddd34d-3e4e-47fb-aeeb-450a89b1b406",
   "metadata": {
    "tags": []
   },
   "outputs": [
    {
     "name": "stdout",
     "output_type": "stream",
     "text": [
      "t-statistic: -1.060596\n",
      "p-value: 0.290206\n",
      "Degrees of Freedom: 192\n"
     ]
    }
   ],
   "source": [
    "# Performing a t-test to examine the difference between the pre- and post-election coverage in terms \n",
    "# of level of criticism per article for Fox News articles\n",
    "\n",
    "group1_data = Fox_LevCriticism_PRE['Criticism Score'] \n",
    "group2_data = Fox_LevCriticism_POST['Criticism Score'] \n",
    "\n",
    "t_statistic, p_value = stats.ttest_ind(group1_data, group2_data, nan_policy='omit')\n",
    "\n",
    "n1 = len(group1_data)\n",
    "n2 = len(group2_data)\n",
    "degrees = n1 + n2 - 2\n",
    "\n",
    "print(\"t-statistic: {:.6f}\".format(t_statistic))\n",
    "print(\"p-value: {:.6f}\".format(p_value))\n",
    "print(\"Degrees of Freedom:\", degrees)"
   ]
  },
  {
   "cell_type": "code",
   "execution_count": 142,
   "id": "96e9906a-e498-4186-be2f-725afa39b537",
   "metadata": {
    "tags": []
   },
   "outputs": [
    {
     "name": "stdout",
     "output_type": "stream",
     "text": [
      "95% Confidence Interval: (0.006764834932682805, 0.021070216613708947)\n"
     ]
    }
   ],
   "source": [
    "confidence_interval = stats.t.interval(0.95, len(Fox_LevCriticism['Criticism Score']) - 1, loc=np.mean(Fox_LevCriticism['Criticism Score']), scale=stats.sem(Fox_LevCriticism['Criticism Score']))\n",
    "print(\"95% Confidence Interval:\", confidence_interval)"
   ]
  },
  {
   "cell_type": "markdown",
   "id": "d404909c-9e96-4253-a578-a28f56aa49db",
   "metadata": {
    "tags": []
   },
   "source": [
    "### H3b: Liberal coverage will increase the legitimization of scientists in the post-election period, compared to the pre-election coverage"
   ]
  },
  {
   "cell_type": "markdown",
   "id": "70f924ef-ebf0-45a5-8a1c-8ca0e2fcaa4c",
   "metadata": {},
   "source": [
    "Similar to the above, recoding the '11#' variables \n",
    "\n",
    "* 1 'Very supported' = 2\n",
    "* 2 'Somewhat supported' = 1\n",
    "* 3 'Neither / Nor' = 0\n",
    "* 4 'Not supported' = 0 "
   ]
  },
  {
   "cell_type": "code",
   "execution_count": 143,
   "id": "7fef8985-54d8-4fae-ab3c-36388da33088",
   "metadata": {
    "tags": []
   },
   "outputs": [],
   "source": [
    "# Recoding the values\n",
    "recode_support = {1: 2, 2: 1, 3: 0, 4: 0}\n",
    "\n",
    "# Trying it out one variable\n",
    "df['111'] = df['111'].replace(recode_support)"
   ]
  },
  {
   "cell_type": "code",
   "execution_count": 144,
   "id": "02a5b8ae-c64d-4ac9-ab0b-24c819b8200c",
   "metadata": {
    "tags": []
   },
   "outputs": [],
   "source": [
    "# Performing for the rest\n",
    "\n",
    "df['112'] = df['112'].replace(recode_support)\n",
    "df['113'] = df['113'].replace(recode_support)\n",
    "df['114'] = df['114'].replace(recode_support)\n",
    "df['115'] = df['115'].replace(recode_support)\n",
    "df['116'] = df['116'].replace(recode_support)\n",
    "df['117'] = df['117'].replace(recode_support)\n",
    "df['118'] = df['118'].replace(recode_support)\n",
    "df['119'] = df['119'].replace(recode_support)\n",
    "df['1110'] = df['1110'].replace(recode_support)"
   ]
  },
  {
   "cell_type": "code",
   "execution_count": 145,
   "id": "1e5d14c3-7038-4372-a0ac-c701e74b6b25",
   "metadata": {
    "tags": []
   },
   "outputs": [],
   "source": [
    "# Creating a new column with the mean value of legitimization levels per scientist \n",
    "\n",
    "df['Legitimization Score'] = df[['111', '112', '113', '114', '115', '116', '117', '118', '119', '1110']].mean(axis=1)"
   ]
  },
  {
   "cell_type": "code",
   "execution_count": 146,
   "id": "8e6ddc20-589a-425e-a958-4ce24aff5daa",
   "metadata": {
    "tags": []
   },
   "outputs": [
    {
     "name": "stdout",
     "output_type": "stream",
     "text": [
      "Mean: 0.17\n",
      "Standard Deviation: 0.26\n"
     ]
    }
   ],
   "source": [
    "mean_value = df['Legitimization Score'].mean()\n",
    "std_value = df['Legitimization Score'].std()\n",
    "\n",
    "print(\"Mean: {:.2f}\".format(mean_value))\n",
    "print(\"Standard Deviation: {:.2f}\".format(std_value))"
   ]
  },
  {
   "cell_type": "code",
   "execution_count": 147,
   "id": "eac1c6e4-9018-4288-8cd5-55d0a82a47aa",
   "metadata": {
    "tags": []
   },
   "outputs": [
    {
     "name": "stdout",
     "output_type": "stream",
     "text": [
      "95% Confidence Interval: (0.14981433385058646, 0.19714218788854404)\n"
     ]
    }
   ],
   "source": [
    "confidence_interval = stats.t.interval(0.95, len(df['Legitimization Score']) - 1, loc=np.mean(df['Legitimization Score']), scale=stats.sem(df['Legitimization Score']))\n",
    "print(\"95% Confidence Interval:\", confidence_interval)"
   ]
  },
  {
   "cell_type": "code",
   "execution_count": 148,
   "id": "a06e617e-adcf-4c50-8dd2-2d2ff247b489",
   "metadata": {
    "tags": []
   },
   "outputs": [],
   "source": [
    "# Filtering dataframe for CNN articles only \n",
    "\n",
    "CNN_LevSupport = df[df['Outlet'] == 1]"
   ]
  },
  {
   "cell_type": "code",
   "execution_count": 149,
   "id": "da7e0423-0e3e-4c61-8ef0-4e24a3b5be2a",
   "metadata": {
    "tags": []
   },
   "outputs": [
    {
     "data": {
      "text/plain": [
       "2    183\n",
       "1     83\n",
       "Name: Before_AFter, dtype: int64"
      ]
     },
     "execution_count": 149,
     "metadata": {},
     "output_type": "execute_result"
    }
   ],
   "source": [
    "CNN_LevSupport['Before_AFter'].value_counts()"
   ]
  },
  {
   "cell_type": "code",
   "execution_count": 150,
   "id": "85f8ced8-fb77-49ac-a4ce-3207264349a8",
   "metadata": {
    "tags": []
   },
   "outputs": [],
   "source": [
    "# Creating a pre-election CNN df\n",
    "\n",
    "CNN_LevSupport_PRE = CNN_LevSupport[CNN_LevSupport['Before_AFter'] == 1]"
   ]
  },
  {
   "cell_type": "code",
   "execution_count": 151,
   "id": "c70f6b04-cd02-4b9d-bd10-740130e8ab97",
   "metadata": {
    "tags": []
   },
   "outputs": [
    {
     "data": {
      "text/plain": [
       "1    83\n",
       "Name: Before_AFter, dtype: int64"
      ]
     },
     "execution_count": 151,
     "metadata": {},
     "output_type": "execute_result"
    }
   ],
   "source": [
    "CNN_LevSupport_PRE['Before_AFter'].value_counts()"
   ]
  },
  {
   "cell_type": "code",
   "execution_count": 152,
   "id": "f90d03fa-34c3-4b2d-a9ac-3367ac976f68",
   "metadata": {
    "tags": []
   },
   "outputs": [
    {
     "name": "stdout",
     "output_type": "stream",
     "text": [
      "Mean: 0.20\n",
      "Standard Deviation: 0.23\n"
     ]
    }
   ],
   "source": [
    "mean_value = CNN_LevSupport_PRE['Legitimization Score'].mean()\n",
    "std_value = CNN_LevSupport_PRE['Legitimization Score'].std()\n",
    "\n",
    "print(\"Mean: {:.2f}\".format(mean_value))\n",
    "print(\"Standard Deviation: {:.2f}\".format(std_value))"
   ]
  },
  {
   "cell_type": "code",
   "execution_count": 153,
   "id": "38eaff87-e0d7-4308-9a7f-284db6f8ace6",
   "metadata": {
    "tags": []
   },
   "outputs": [],
   "source": [
    "# Creating a post-election CNN df\n",
    "\n",
    "CNN_LevSupport_POST = CNN_LevSupport[CNN_LevSupport['Before_AFter'] == 2]"
   ]
  },
  {
   "cell_type": "code",
   "execution_count": 154,
   "id": "962f2409-d479-41c1-9e59-6b866f5187ab",
   "metadata": {
    "tags": []
   },
   "outputs": [
    {
     "data": {
      "text/plain": [
       "2    183\n",
       "Name: Before_AFter, dtype: int64"
      ]
     },
     "execution_count": 154,
     "metadata": {},
     "output_type": "execute_result"
    }
   ],
   "source": [
    "CNN_LevSupport_POST['Before_AFter'].value_counts()"
   ]
  },
  {
   "cell_type": "code",
   "execution_count": 155,
   "id": "ed5b90c7-b3e7-4042-994b-869be17d6a66",
   "metadata": {
    "tags": []
   },
   "outputs": [
    {
     "name": "stdout",
     "output_type": "stream",
     "text": [
      "Mean: 0.25\n",
      "Standard Deviation: 0.31\n"
     ]
    }
   ],
   "source": [
    "mean_value = CNN_LevSupport_POST['Legitimization Score'].mean()\n",
    "std_value = CNN_LevSupport_POST['Legitimization Score'].std()\n",
    "\n",
    "print(\"Mean: {:.2f}\".format(mean_value))\n",
    "print(\"Standard Deviation: {:.2f}\".format(std_value))"
   ]
  },
  {
   "cell_type": "markdown",
   "id": "11dc6057-5b72-413a-a812-1188cf3796b8",
   "metadata": {},
   "source": [
    "Step 3: T-test"
   ]
  },
  {
   "cell_type": "code",
   "execution_count": 156,
   "id": "196f65eb-3029-4b12-aeb1-ec5bc7e6aff4",
   "metadata": {
    "tags": []
   },
   "outputs": [
    {
     "name": "stdout",
     "output_type": "stream",
     "text": [
      "t-statistic: -1.409573\n",
      "p-value: 0.159843\n",
      "Degrees of Freedom: 264\n"
     ]
    }
   ],
   "source": [
    "# Performing a t-test to examine the difference between the pre- and post-election coverage in terms \n",
    "# of level of support per article in CNN articles\n",
    "\n",
    "group1_data = CNN_LevSupport_PRE['Legitimization Score'] \n",
    "group2_data = CNN_LevSupport_POST['Legitimization Score'] \n",
    "\n",
    "t_statistic, p_value = stats.ttest_ind(group1_data, group2_data, nan_policy='omit')\n",
    "\n",
    "n1 = len(group1_data)\n",
    "n2 = len(group2_data)\n",
    "degrees = n1 + n2 - 2\n",
    "\n",
    "print(\"t-statistic: {:.6f}\".format(t_statistic))\n",
    "print(\"p-value: {:.6f}\".format(p_value))\n",
    "print(\"Degrees of Freedom:\", degrees)"
   ]
  },
  {
   "cell_type": "code",
   "execution_count": 157,
   "id": "1b7dc8b9-f5f1-4e35-8956-11bc24dc6996",
   "metadata": {
    "tags": []
   },
   "outputs": [
    {
     "name": "stdout",
     "output_type": "stream",
     "text": [
      "95% Confidence Interval: (0.2008973707855784, 0.26977932094374485)\n"
     ]
    }
   ],
   "source": [
    "confidence_interval = stats.t.interval(0.95, len(CNN_LevSupport['Legitimization Score']) - 1, loc=np.mean(CNN_LevSupport['Legitimization Score']), scale=stats.sem(CNN_LevSupport['Legitimization Score']))\n",
    "print(\"95% Confidence Interval:\", confidence_interval)"
   ]
  },
  {
   "cell_type": "markdown",
   "id": "f0f5e505-070b-419b-802d-f115833929cd",
   "metadata": {
    "tags": []
   },
   "source": [
    "## Post-hoc analyses"
   ]
  },
  {
   "cell_type": "markdown",
   "id": "92107b81-ae6c-43cb-a929-11ae3152778c",
   "metadata": {
    "tags": []
   },
   "source": [
    "### ANOVAs of Article Type x C/L Scores "
   ]
  },
  {
   "cell_type": "code",
   "execution_count": 158,
   "id": "6241b8be-e198-4e10-8506-50799b4a1f37",
   "metadata": {
    "tags": []
   },
   "outputs": [
    {
     "name": "stdout",
     "output_type": "stream",
     "text": [
      "                df    sum_sq   mean_sq         F   PR(>F)\n",
      "independent    2.0  0.002812  0.001406  0.702134  0.49606\n",
      "Residual     457.0  0.914993  0.002002       NaN      NaN\n"
     ]
    }
   ],
   "source": [
    "# ANOVA of article type x criticism score \n",
    "\n",
    "dependent = df['Criticism Score']\n",
    "\n",
    "independent = df['Article Type']\n",
    "\n",
    "model = ols('dependent ~ independent', data=df).fit()\n",
    "anova_table = sm.stats.anova_lm(model)\n",
    "\n",
    "print(anova_table)"
   ]
  },
  {
   "cell_type": "code",
   "execution_count": 159,
   "id": "df99dad3-a92f-400b-847e-0581574e5466",
   "metadata": {},
   "outputs": [
    {
     "name": "stdout",
     "output_type": "stream",
     "text": [
      "                df     sum_sq   mean_sq         F    PR(>F)\n",
      "independent    2.0   0.266495  0.133248  2.006402  0.135654\n",
      "Residual     457.0  30.349940  0.066411       NaN       NaN\n"
     ]
    }
   ],
   "source": [
    "# ANOVA of article type x legitimization score \n",
    "\n",
    "dependent = df['Legitimization Score']\n",
    "\n",
    "independent = df['Article Type']\n",
    "\n",
    "model = ols('dependent ~ independent', data=df).fit()\n",
    "anova_table = sm.stats.anova_lm(model)\n",
    "\n",
    "print(anova_table)"
   ]
  },
  {
   "cell_type": "markdown",
   "id": "4fbcf4ed-d71f-4ecc-b172-7913d0c89679",
   "metadata": {
    "tags": []
   },
   "source": [
    "### Correlations"
   ]
  },
  {
   "cell_type": "code",
   "execution_count": 160,
   "id": "b2a818e8-96be-40f3-9135-d24084a27815",
   "metadata": {
    "tags": []
   },
   "outputs": [
    {
     "name": "stdout",
     "output_type": "stream",
     "text": [
      "Correlation coefficient: 0.2057887760300309\n",
      "p-value: 8.611867467976189e-06\n"
     ]
    }
   ],
   "source": [
    "# Correlation of Total Visibility and Criticism Score \n",
    "\n",
    "x = df['Total Vis']\n",
    "y = df['Criticism Score']\n",
    "\n",
    "corr, p_value = pearsonr(x, y)\n",
    "\n",
    "print(\"Correlation coefficient:\", corr)\n",
    "print(\"p-value:\", p_value)"
   ]
  },
  {
   "cell_type": "code",
   "execution_count": 161,
   "id": "b9f71dcd-48a2-4b15-af1f-cb137b89e123",
   "metadata": {
    "tags": []
   },
   "outputs": [
    {
     "name": "stdout",
     "output_type": "stream",
     "text": [
      "Correlation coefficient: 0.5527651874557806\n",
      "p-value: 3.651633759488338e-38\n"
     ]
    }
   ],
   "source": [
    "# Correlation of Total Visibility and Legitimization Score \n",
    "\n",
    "x = df['Total Vis']\n",
    "y = df['Legitimization Score']\n",
    "\n",
    "corr, p_value = pearsonr(x, y)\n",
    "\n",
    "print(\"Correlation coefficient:\", corr)\n",
    "print(\"p-value:\", p_value)"
   ]
  },
  {
   "cell_type": "markdown",
   "id": "f8f432dd-6a5b-4119-ae9e-f7f165cfd51a",
   "metadata": {
    "tags": []
   },
   "source": [
    "## Visualizations"
   ]
  },
  {
   "cell_type": "markdown",
   "id": "a1c62903-c73d-4da2-ac2a-d9eb6af8b895",
   "metadata": {
    "tags": []
   },
   "source": [
    "### Visbility "
   ]
  },
  {
   "cell_type": "code",
   "execution_count": 162,
   "id": "fd440d2a-a199-44f1-a2c4-57f364af8eaa",
   "metadata": {
    "tags": []
   },
   "outputs": [
    {
     "data": {
      "image/png": "[encoded data removed]",
      "text/plain": [
       "<Figure size 1000x1000 with 4 Axes>"
      ]
     },
     "metadata": {},
     "output_type": "display_data"
    }
   ],
   "source": [
    "sns.set(style=\"darkgrid\")\n",
    "\n",
    "fig, axs = plt.subplots(2, 2, figsize=(10, 10))\n",
    "\n",
    "sns.histplot(data=CNN, x=\"CV Score\", kde=True, color=\"blue\", ax=axs[0, 0])\n",
    "axs[0, 0].set_xlabel(\"CNN Centralized Visibility\")\n",
    "axs[0, 0].set_ylabel(\"Number of Articles\")\n",
    "\n",
    "sns.histplot(data=CNN, x=\"DV Score\", kde=True, color=\"blue\", ax=axs[0, 1])\n",
    "axs[0, 1].set_xlabel(\"CNN Decentralized Visibility\")\n",
    "axs[0, 1].set_ylabel(\"Number of Articles\")\n",
    "\n",
    "sns.histplot(data=FOX, x=\"CV Score\", kde=True, color=\"red\", ax=axs[1, 0])\n",
    "axs[1, 0].set_xlabel(\"Fox News Centralized Visibility\")\n",
    "axs[1, 0].set_ylabel(\"Number of Articles\")\n",
    "\n",
    "sns.histplot(data=FOX, x=\"DV Score\", kde=True, color=\"red\", ax=axs[1, 1])\n",
    "axs[1, 1].set_xlabel(\"Fox News Decentralized Visibility\")\n",
    "axs[1, 1].set_ylabel(\"Number of Articles\")\n",
    "\n",
    "plt.show()\n"
   ]
  },
  {
   "cell_type": "markdown",
   "id": "9af41d27-c1d8-44fa-9ce5-8e38df6d1701",
   "metadata": {
    "tags": []
   },
   "source": [
    "### Treatment"
   ]
  },
  {
   "cell_type": "code",
   "execution_count": 163,
   "id": "98925c32-e3b4-4318-ae40-8fb21ae48ed2",
   "metadata": {},
   "outputs": [],
   "source": [
    "CNN2 = df[df['Outlet'] == 1]"
   ]
  },
  {
   "cell_type": "code",
   "execution_count": 164,
   "id": "fbd92e1e-fc91-4a88-905b-e456d060cc3f",
   "metadata": {},
   "outputs": [],
   "source": [
    "FOX2 = df[df['Outlet'] == 2]"
   ]
  },
  {
   "cell_type": "code",
   "execution_count": 165,
   "id": "7df7d40f-5e8a-4e8c-a857-d753fe6db2dd",
   "metadata": {
    "tags": []
   },
   "outputs": [
    {
     "data": {
      "image/png": "[encoded data removed]",
      "text/plain": [
       "<Figure size 640x480 with 1 Axes>"
      ]
     },
     "metadata": {},
     "output_type": "display_data"
    }
   ],
   "source": [
    "sns.set(style=\"darkgrid\")\n",
    "\n",
    "sns.histplot(data=CNN2, x=\"Criticism Score\", color=\"blue\", label=\"Criticism CNN\", kde=True)\n",
    "sns.histplot(data=FOX2, x=\"Criticism Score\", color=\"red\", label=\"Criticism Fox News\", kde=True)\n",
    "\n",
    "plt.legend() \n",
    "plt.show()"
   ]
  },
  {
   "cell_type": "code",
   "execution_count": 166,
   "id": "1470f0d6-9881-4583-8ba0-e3b3dd33a152",
   "metadata": {
    "tags": []
   },
   "outputs": [
    {
     "data": {
      "image/png": "[encoded data removed]",
      "text/plain": [
       "<Figure size 640x480 with 1 Axes>"
      ]
     },
     "metadata": {},
     "output_type": "display_data"
    }
   ],
   "source": [
    "sns.set(style=\"darkgrid\")\n",
    "\n",
    "sns.histplot(data=CNN2, x=\"Legitimization Score\", color=\"blue\", label=\"Legitimization CNN\", kde=True)\n",
    "sns.histplot(data=FOX2, x=\"Legitimization Score\", color=\"red\", label=\"Legitimization Fox News\", kde=True)\n",
    "\n",
    "plt.xlim(0, 1.4)  \n",
    "plt.ylim(0, 300)  \n",
    "\n",
    "plt.legend() \n",
    "plt.show()"
   ]
  }
 ],
 "metadata": {
  "kernelspec": {
   "display_name": "Python 3 (ipykernel)",
   "language": "python",
   "name": "python3"
  },
  "language_info": {
   "codemirror_mode": {
    "name": "ipython",
    "version": 3
   },
   "file_extension": ".py",
   "mimetype": "text/x-python",
   "name": "python",
   "nbconvert_exporter": "python",
   "pygments_lexer": "ipython3",
   "version": "3.8.16"
  }
 },
 "nbformat": 4,
 "nbformat_minor": 5
}
